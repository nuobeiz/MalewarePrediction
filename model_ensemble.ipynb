{
 "cells": [
  {
   "cell_type": "code",
   "execution_count": 13,
   "metadata": {},
   "outputs": [],
   "source": [
    "import pandas as pd\n",
    "import numpy as np\n",
    "import matplotlib.pyplot as plt\n",
    "\n",
    "from sklearn.ensemble import RandomForestClassifier\n",
    "from xgboost import XGBClassifier\n",
    "import xgboost as xgb\n",
    "from sklearn.linear_model import LogisticRegression\n",
    "from sklearn.ensemble import VotingClassifier\n",
    "\n",
    "from sklearn.datasets import make_classification\n",
    "from sklearn import metrics\n",
    "from sklearn.metrics import accuracy_score\n",
    "from sklearn.metrics import accuracy_score, roc_auc_score\n",
    "\n",
    "from sklearn import tree\n",
    "\n",
    "from sklearn.model_selection import RandomizedSearchCV\n",
    "from sklearn.model_selection import GridSearchCV\n"
   ]
  },
  {
   "cell_type": "code",
   "execution_count": 2,
   "metadata": {},
   "outputs": [
    {
     "name": "stderr",
     "output_type": "stream",
     "text": [
      "/tmp/ipykernel_1144/4179557144.py:1: DtypeWarning: Columns (28) have mixed types. Specify dtype option on import or set low_memory=False.\n",
      "  df = pd.read_csv('train_subset_1.csv')\n"
     ]
    }
   ],
   "source": [
    "df = pd.read_csv('train_subset_1.csv')"
   ]
  },
  {
   "cell_type": "markdown",
   "metadata": {},
   "source": [
    "# Data Processing"
   ]
  },
  {
   "cell_type": "code",
   "execution_count": 3,
   "metadata": {},
   "outputs": [],
   "source": [
    "# Remove columns with over 10% missing data\n",
    "missing_cols = df.columns[df.isna().mean() >= 0.1]\n",
    "df.drop(missing_cols, axis=1, inplace=True)\n",
    "df.reset_index(inplace=True, drop=True)"
   ]
  },
  {
   "cell_type": "code",
   "execution_count": 4,
   "metadata": {},
   "outputs": [],
   "source": [
    "idx = 'MachineIdentifier'\n",
    "many_categorical_variables = ['EngineVersion', 'AppVersion', 'AvSigVersion', 'AVProductStatesIdentifier',\n",
    "            'CountryIdentifier', 'CityIdentifier', 'GeoNameIdentifier', 'LocaleEnglishNameIdentifier', 'OsVer',\n",
    "            'OsBuild', 'OsSuite', 'OsPlatformSubRelease', 'OsBuildLab', 'IeVerIdentifier', 'Census_MDC2FormFactor', \n",
    "            'Census_OEMNameIdentifier', 'Census_OEMModelIdentifier', 'Census_ProcessorModelIdentifier', 'Census_ChassisTypeName', \n",
    "            'Census_PowerPlatformRoleName', 'Census_OSVersion', 'Census_OSBranch', 'Census_OSBuildNumber', 'Census_OSBuildRevision',\n",
    "            'Census_OSEdition', 'Census_OSSkuName', 'Census_OSInstallTypeName', 'Census_OSInstallLanguageIdentifier', \n",
    "            'Census_OSUILocaleIdentifier', 'Census_FlightRing', 'Census_FirmwareManufacturerIdentifier', 'Census_FirmwareVersionIdentifier', \n",
    "            'Wdft_RegionIdentifier']\n",
    "\n",
    "few_categorical_variables = ['ProductName', 'Platform', 'Processor', 'SkuEdition', 'UacLuaenable', 'Census_DeviceFamily', \n",
    "            'Census_ProcessorManufacturerIdentifier', 'Census_PrimaryDiskTypeName', 'Census_OSArchitecture', 'Census_OSWUAutoUpdateOptionsName',\n",
    "            'Census_GenuineStateName', 'Census_ActivationChannel']\n",
    "\n",
    "binary_variables = ['IsBeta', 'IsSxsPassiveMode', 'HasTpm', 'IsProtected', 'AutoSampleOptIn', 'SMode', 'Firewall', \n",
    "            'Census_HasOpticalDiskDrive', 'Census_IsPortableOperatingSystem', 'Census_IsFlightsDisabled', 'Census_IsSecureBootEnabled',\n",
    "            'Census_IsVirtualDevice', 'Census_IsTouchEnabled', 'Census_IsPenCapable', 'Census_IsAlwaysOnAlwaysConnectedCapable',\n",
    "            'Wdft_IsGamer']\n",
    "\n",
    "ordered_variables = ['AVProductsInstalled', 'AVProductsEnabled', 'RtpStateBitfield', 'Census_ProcessorCoreCount', \n",
    "            'Census_PrimaryDiskTotalCapacity', 'Census_SystemVolumeTotalCapacity', 'Census_TotalPhysicalRAM', \n",
    "            'Census_InternalPrimaryDiagonalDisplaySizeInInches', 'Census_InternalPrimaryDisplayResolutionHorizontal', \n",
    "            'Census_InternalPrimaryDisplayResolutionVertical', 'Census_InternalBatteryNumberOfCharges']\n",
    "\n",
    "response = 'HasDetections'"
   ]
  },
  {
   "cell_type": "code",
   "execution_count": 5,
   "metadata": {},
   "outputs": [],
   "source": [
    "# Make all lowercase\n",
    "str_columns = df.dtypes[df.dtypes == 'object'].index\n",
    "for col in str_columns:\n",
    "    df[col] = df[col].str.lower()"
   ]
  },
  {
   "cell_type": "code",
   "execution_count": 6,
   "metadata": {},
   "outputs": [],
   "source": [
    "# Remove columns with a single category with over 98.5% of the entries\n",
    "max_tolerance = 0.015\n",
    "imbalanced_cols = []\n",
    "for col in df.columns:\n",
    "    if (df[col].value_counts(dropna=False) / len(df) >= (1 - max_tolerance) ).any():\n",
    "        imbalanced_cols.append(col)\n",
    "        \n",
    "df.drop(imbalanced_cols, axis=1, inplace=True)"
   ]
  },
  {
   "cell_type": "code",
   "execution_count": 7,
   "metadata": {},
   "outputs": [],
   "source": [
    "categorical_variables = many_categorical_variables + few_categorical_variables\n",
    "new_categorical_variables = set.intersection(set(categorical_variables), set(df.columns))\n",
    "\n",
    "# Cast categorical columns with low-represented categories to \"other\"\n",
    "min_tolerance = 0.001\n",
    "imbalanced_categories = []\n",
    "x = 0\n",
    "for col in list(new_categorical_variables):\n",
    "    #print(col)\n",
    "    val_counts = df[col].value_counts(dropna=False)\n",
    "    scarce_indices = (val_counts[(val_counts / len(df)) <= min_tolerance]).index\n",
    "        \n",
    "    map_dict = {}\n",
    "    for item in scarce_indices:\n",
    "        map_dict[item] = 'other'\n",
    "    new_df_col = df[col].map(lambda x: map_dict.get(x,x))\n",
    "    df[col] = new_df_col.copy()\n",
    "\n",
    "    x += 1\n",
    "    #print(x / len(new_categorical_variables))"
   ]
  },
  {
   "cell_type": "code",
   "execution_count": 8,
   "metadata": {},
   "outputs": [],
   "source": [
    "df.dropna(inplace=True)"
   ]
  },
  {
   "cell_type": "code",
   "execution_count": 9,
   "metadata": {},
   "outputs": [],
   "source": [
    "df.reset_index(inplace=True, drop=True)"
   ]
  },
  {
   "cell_type": "markdown",
   "metadata": {},
   "source": [
    "# Model Fitting"
   ]
  },
  {
   "cell_type": "code",
   "execution_count": 10,
   "metadata": {},
   "outputs": [
    {
     "data": {
      "text/html": [
       "<div>\n",
       "<style scoped>\n",
       "    .dataframe tbody tr th:only-of-type {\n",
       "        vertical-align: middle;\n",
       "    }\n",
       "\n",
       "    .dataframe tbody tr th {\n",
       "        vertical-align: top;\n",
       "    }\n",
       "\n",
       "    .dataframe thead th {\n",
       "        text-align: right;\n",
       "    }\n",
       "</style>\n",
       "<table border=\"1\" class=\"dataframe\">\n",
       "  <thead>\n",
       "    <tr style=\"text-align: right;\">\n",
       "      <th></th>\n",
       "      <th>RtpStateBitfield</th>\n",
       "      <th>IsSxsPassiveMode</th>\n",
       "      <th>AVProductsInstalled</th>\n",
       "      <th>AVProductsEnabled</th>\n",
       "      <th>IsProtected</th>\n",
       "      <th>SMode</th>\n",
       "      <th>Firewall</th>\n",
       "      <th>Census_ProcessorCoreCount</th>\n",
       "      <th>Census_PrimaryDiskTotalCapacity</th>\n",
       "      <th>Census_SystemVolumeTotalCapacity</th>\n",
       "      <th>...</th>\n",
       "      <th>Wdft_RegionIdentifier_6.0</th>\n",
       "      <th>Wdft_RegionIdentifier_7.0</th>\n",
       "      <th>Wdft_RegionIdentifier_8.0</th>\n",
       "      <th>Wdft_RegionIdentifier_9.0</th>\n",
       "      <th>Wdft_RegionIdentifier_10.0</th>\n",
       "      <th>Wdft_RegionIdentifier_11.0</th>\n",
       "      <th>Wdft_RegionIdentifier_12.0</th>\n",
       "      <th>Wdft_RegionIdentifier_13.0</th>\n",
       "      <th>Wdft_RegionIdentifier_15.0</th>\n",
       "      <th>Wdft_RegionIdentifier_other</th>\n",
       "    </tr>\n",
       "  </thead>\n",
       "  <tbody>\n",
       "    <tr>\n",
       "      <th>0</th>\n",
       "      <td>7.0</td>\n",
       "      <td>0.0</td>\n",
       "      <td>2.0</td>\n",
       "      <td>2.0</td>\n",
       "      <td>1.0</td>\n",
       "      <td>0.0</td>\n",
       "      <td>1.0</td>\n",
       "      <td>4.0</td>\n",
       "      <td>476940.0</td>\n",
       "      <td>102401.0</td>\n",
       "      <td>...</td>\n",
       "      <td>0</td>\n",
       "      <td>1</td>\n",
       "      <td>0</td>\n",
       "      <td>0</td>\n",
       "      <td>0</td>\n",
       "      <td>0</td>\n",
       "      <td>0</td>\n",
       "      <td>0</td>\n",
       "      <td>0</td>\n",
       "      <td>0</td>\n",
       "    </tr>\n",
       "    <tr>\n",
       "      <th>1</th>\n",
       "      <td>7.0</td>\n",
       "      <td>0.0</td>\n",
       "      <td>2.0</td>\n",
       "      <td>1.0</td>\n",
       "      <td>1.0</td>\n",
       "      <td>0.0</td>\n",
       "      <td>1.0</td>\n",
       "      <td>4.0</td>\n",
       "      <td>953869.0</td>\n",
       "      <td>102401.0</td>\n",
       "      <td>...</td>\n",
       "      <td>0</td>\n",
       "      <td>1</td>\n",
       "      <td>0</td>\n",
       "      <td>0</td>\n",
       "      <td>0</td>\n",
       "      <td>0</td>\n",
       "      <td>0</td>\n",
       "      <td>0</td>\n",
       "      <td>0</td>\n",
       "      <td>0</td>\n",
       "    </tr>\n",
       "    <tr>\n",
       "      <th>2</th>\n",
       "      <td>7.0</td>\n",
       "      <td>0.0</td>\n",
       "      <td>3.0</td>\n",
       "      <td>1.0</td>\n",
       "      <td>1.0</td>\n",
       "      <td>0.0</td>\n",
       "      <td>1.0</td>\n",
       "      <td>4.0</td>\n",
       "      <td>953869.0</td>\n",
       "      <td>913014.0</td>\n",
       "      <td>...</td>\n",
       "      <td>0</td>\n",
       "      <td>0</td>\n",
       "      <td>0</td>\n",
       "      <td>0</td>\n",
       "      <td>0</td>\n",
       "      <td>0</td>\n",
       "      <td>0</td>\n",
       "      <td>0</td>\n",
       "      <td>1</td>\n",
       "      <td>0</td>\n",
       "    </tr>\n",
       "    <tr>\n",
       "      <th>3</th>\n",
       "      <td>7.0</td>\n",
       "      <td>0.0</td>\n",
       "      <td>1.0</td>\n",
       "      <td>1.0</td>\n",
       "      <td>1.0</td>\n",
       "      <td>0.0</td>\n",
       "      <td>1.0</td>\n",
       "      <td>2.0</td>\n",
       "      <td>953869.0</td>\n",
       "      <td>305062.0</td>\n",
       "      <td>...</td>\n",
       "      <td>0</td>\n",
       "      <td>1</td>\n",
       "      <td>0</td>\n",
       "      <td>0</td>\n",
       "      <td>0</td>\n",
       "      <td>0</td>\n",
       "      <td>0</td>\n",
       "      <td>0</td>\n",
       "      <td>0</td>\n",
       "      <td>0</td>\n",
       "    </tr>\n",
       "    <tr>\n",
       "      <th>4</th>\n",
       "      <td>7.0</td>\n",
       "      <td>0.0</td>\n",
       "      <td>1.0</td>\n",
       "      <td>1.0</td>\n",
       "      <td>1.0</td>\n",
       "      <td>0.0</td>\n",
       "      <td>1.0</td>\n",
       "      <td>4.0</td>\n",
       "      <td>29600.0</td>\n",
       "      <td>28482.0</td>\n",
       "      <td>...</td>\n",
       "      <td>0</td>\n",
       "      <td>0</td>\n",
       "      <td>0</td>\n",
       "      <td>0</td>\n",
       "      <td>0</td>\n",
       "      <td>0</td>\n",
       "      <td>0</td>\n",
       "      <td>0</td>\n",
       "      <td>0</td>\n",
       "      <td>0</td>\n",
       "    </tr>\n",
       "    <tr>\n",
       "      <th>...</th>\n",
       "      <td>...</td>\n",
       "      <td>...</td>\n",
       "      <td>...</td>\n",
       "      <td>...</td>\n",
       "      <td>...</td>\n",
       "      <td>...</td>\n",
       "      <td>...</td>\n",
       "      <td>...</td>\n",
       "      <td>...</td>\n",
       "      <td>...</td>\n",
       "      <td>...</td>\n",
       "      <td>...</td>\n",
       "      <td>...</td>\n",
       "      <td>...</td>\n",
       "      <td>...</td>\n",
       "      <td>...</td>\n",
       "      <td>...</td>\n",
       "      <td>...</td>\n",
       "      <td>...</td>\n",
       "      <td>...</td>\n",
       "      <td>...</td>\n",
       "    </tr>\n",
       "    <tr>\n",
       "      <th>443944</th>\n",
       "      <td>7.0</td>\n",
       "      <td>0.0</td>\n",
       "      <td>2.0</td>\n",
       "      <td>1.0</td>\n",
       "      <td>1.0</td>\n",
       "      <td>0.0</td>\n",
       "      <td>1.0</td>\n",
       "      <td>2.0</td>\n",
       "      <td>476940.0</td>\n",
       "      <td>475948.0</td>\n",
       "      <td>...</td>\n",
       "      <td>0</td>\n",
       "      <td>0</td>\n",
       "      <td>0</td>\n",
       "      <td>0</td>\n",
       "      <td>1</td>\n",
       "      <td>0</td>\n",
       "      <td>0</td>\n",
       "      <td>0</td>\n",
       "      <td>0</td>\n",
       "      <td>0</td>\n",
       "    </tr>\n",
       "    <tr>\n",
       "      <th>443945</th>\n",
       "      <td>7.0</td>\n",
       "      <td>0.0</td>\n",
       "      <td>1.0</td>\n",
       "      <td>1.0</td>\n",
       "      <td>1.0</td>\n",
       "      <td>0.0</td>\n",
       "      <td>1.0</td>\n",
       "      <td>4.0</td>\n",
       "      <td>953869.0</td>\n",
       "      <td>952984.0</td>\n",
       "      <td>...</td>\n",
       "      <td>0</td>\n",
       "      <td>0</td>\n",
       "      <td>0</td>\n",
       "      <td>0</td>\n",
       "      <td>0</td>\n",
       "      <td>0</td>\n",
       "      <td>0</td>\n",
       "      <td>0</td>\n",
       "      <td>0</td>\n",
       "      <td>0</td>\n",
       "    </tr>\n",
       "    <tr>\n",
       "      <th>443946</th>\n",
       "      <td>7.0</td>\n",
       "      <td>0.0</td>\n",
       "      <td>2.0</td>\n",
       "      <td>1.0</td>\n",
       "      <td>1.0</td>\n",
       "      <td>0.0</td>\n",
       "      <td>1.0</td>\n",
       "      <td>2.0</td>\n",
       "      <td>953869.0</td>\n",
       "      <td>926992.0</td>\n",
       "      <td>...</td>\n",
       "      <td>0</td>\n",
       "      <td>0</td>\n",
       "      <td>0</td>\n",
       "      <td>0</td>\n",
       "      <td>1</td>\n",
       "      <td>0</td>\n",
       "      <td>0</td>\n",
       "      <td>0</td>\n",
       "      <td>0</td>\n",
       "      <td>0</td>\n",
       "    </tr>\n",
       "    <tr>\n",
       "      <th>443947</th>\n",
       "      <td>7.0</td>\n",
       "      <td>0.0</td>\n",
       "      <td>2.0</td>\n",
       "      <td>1.0</td>\n",
       "      <td>1.0</td>\n",
       "      <td>0.0</td>\n",
       "      <td>1.0</td>\n",
       "      <td>4.0</td>\n",
       "      <td>953869.0</td>\n",
       "      <td>952728.0</td>\n",
       "      <td>...</td>\n",
       "      <td>0</td>\n",
       "      <td>0</td>\n",
       "      <td>0</td>\n",
       "      <td>0</td>\n",
       "      <td>0</td>\n",
       "      <td>0</td>\n",
       "      <td>0</td>\n",
       "      <td>0</td>\n",
       "      <td>0</td>\n",
       "      <td>0</td>\n",
       "    </tr>\n",
       "    <tr>\n",
       "      <th>443948</th>\n",
       "      <td>7.0</td>\n",
       "      <td>0.0</td>\n",
       "      <td>2.0</td>\n",
       "      <td>1.0</td>\n",
       "      <td>1.0</td>\n",
       "      <td>0.0</td>\n",
       "      <td>1.0</td>\n",
       "      <td>2.0</td>\n",
       "      <td>305245.0</td>\n",
       "      <td>286711.0</td>\n",
       "      <td>...</td>\n",
       "      <td>0</td>\n",
       "      <td>0</td>\n",
       "      <td>0</td>\n",
       "      <td>0</td>\n",
       "      <td>1</td>\n",
       "      <td>0</td>\n",
       "      <td>0</td>\n",
       "      <td>0</td>\n",
       "      <td>0</td>\n",
       "      <td>0</td>\n",
       "    </tr>\n",
       "  </tbody>\n",
       "</table>\n",
       "<p>443949 rows × 589 columns</p>\n",
       "</div>"
      ],
      "text/plain": [
       "        RtpStateBitfield  IsSxsPassiveMode  AVProductsInstalled  \\\n",
       "0                    7.0               0.0                  2.0   \n",
       "1                    7.0               0.0                  2.0   \n",
       "2                    7.0               0.0                  3.0   \n",
       "3                    7.0               0.0                  1.0   \n",
       "4                    7.0               0.0                  1.0   \n",
       "...                  ...               ...                  ...   \n",
       "443944               7.0               0.0                  2.0   \n",
       "443945               7.0               0.0                  1.0   \n",
       "443946               7.0               0.0                  2.0   \n",
       "443947               7.0               0.0                  2.0   \n",
       "443948               7.0               0.0                  2.0   \n",
       "\n",
       "        AVProductsEnabled  IsProtected  SMode  Firewall  \\\n",
       "0                     2.0          1.0    0.0       1.0   \n",
       "1                     1.0          1.0    0.0       1.0   \n",
       "2                     1.0          1.0    0.0       1.0   \n",
       "3                     1.0          1.0    0.0       1.0   \n",
       "4                     1.0          1.0    0.0       1.0   \n",
       "...                   ...          ...    ...       ...   \n",
       "443944                1.0          1.0    0.0       1.0   \n",
       "443945                1.0          1.0    0.0       1.0   \n",
       "443946                1.0          1.0    0.0       1.0   \n",
       "443947                1.0          1.0    0.0       1.0   \n",
       "443948                1.0          1.0    0.0       1.0   \n",
       "\n",
       "        Census_ProcessorCoreCount  Census_PrimaryDiskTotalCapacity  \\\n",
       "0                             4.0                         476940.0   \n",
       "1                             4.0                         953869.0   \n",
       "2                             4.0                         953869.0   \n",
       "3                             2.0                         953869.0   \n",
       "4                             4.0                          29600.0   \n",
       "...                           ...                              ...   \n",
       "443944                        2.0                         476940.0   \n",
       "443945                        4.0                         953869.0   \n",
       "443946                        2.0                         953869.0   \n",
       "443947                        4.0                         953869.0   \n",
       "443948                        2.0                         305245.0   \n",
       "\n",
       "        Census_SystemVolumeTotalCapacity  ...  Wdft_RegionIdentifier_6.0  \\\n",
       "0                               102401.0  ...                          0   \n",
       "1                               102401.0  ...                          0   \n",
       "2                               913014.0  ...                          0   \n",
       "3                               305062.0  ...                          0   \n",
       "4                                28482.0  ...                          0   \n",
       "...                                  ...  ...                        ...   \n",
       "443944                          475948.0  ...                          0   \n",
       "443945                          952984.0  ...                          0   \n",
       "443946                          926992.0  ...                          0   \n",
       "443947                          952728.0  ...                          0   \n",
       "443948                          286711.0  ...                          0   \n",
       "\n",
       "        Wdft_RegionIdentifier_7.0  Wdft_RegionIdentifier_8.0  \\\n",
       "0                               1                          0   \n",
       "1                               1                          0   \n",
       "2                               0                          0   \n",
       "3                               1                          0   \n",
       "4                               0                          0   \n",
       "...                           ...                        ...   \n",
       "443944                          0                          0   \n",
       "443945                          0                          0   \n",
       "443946                          0                          0   \n",
       "443947                          0                          0   \n",
       "443948                          0                          0   \n",
       "\n",
       "        Wdft_RegionIdentifier_9.0  Wdft_RegionIdentifier_10.0  \\\n",
       "0                               0                           0   \n",
       "1                               0                           0   \n",
       "2                               0                           0   \n",
       "3                               0                           0   \n",
       "4                               0                           0   \n",
       "...                           ...                         ...   \n",
       "443944                          0                           1   \n",
       "443945                          0                           0   \n",
       "443946                          0                           1   \n",
       "443947                          0                           0   \n",
       "443948                          0                           1   \n",
       "\n",
       "        Wdft_RegionIdentifier_11.0  Wdft_RegionIdentifier_12.0  \\\n",
       "0                                0                           0   \n",
       "1                                0                           0   \n",
       "2                                0                           0   \n",
       "3                                0                           0   \n",
       "4                                0                           0   \n",
       "...                            ...                         ...   \n",
       "443944                           0                           0   \n",
       "443945                           0                           0   \n",
       "443946                           0                           0   \n",
       "443947                           0                           0   \n",
       "443948                           0                           0   \n",
       "\n",
       "        Wdft_RegionIdentifier_13.0  Wdft_RegionIdentifier_15.0  \\\n",
       "0                                0                           0   \n",
       "1                                0                           0   \n",
       "2                                0                           1   \n",
       "3                                0                           0   \n",
       "4                                0                           0   \n",
       "...                            ...                         ...   \n",
       "443944                           0                           0   \n",
       "443945                           0                           0   \n",
       "443946                           0                           0   \n",
       "443947                           0                           0   \n",
       "443948                           0                           0   \n",
       "\n",
       "        Wdft_RegionIdentifier_other  \n",
       "0                                 0  \n",
       "1                                 0  \n",
       "2                                 0  \n",
       "3                                 0  \n",
       "4                                 0  \n",
       "...                             ...  \n",
       "443944                            0  \n",
       "443945                            0  \n",
       "443946                            0  \n",
       "443947                            0  \n",
       "443948                            0  \n",
       "\n",
       "[443949 rows x 589 columns]"
      ]
     },
     "execution_count": 10,
     "metadata": {},
     "output_type": "execute_result"
    }
   ],
   "source": [
    "y = df['HasDetections']\n",
    "X = df.drop(['MachineIdentifier', 'HasDetections'], axis=1)\n",
    "\n",
    "X.drop(['CountryIdentifier', 'CityIdentifier', 'GeoNameIdentifier', 'LocaleEnglishNameIdentifier', 'Census_OEMModelIdentifier', 'Census_ProcessorModelIdentifier', 'Census_OSVersion',\n",
    "            'Census_FirmwareVersionIdentifier', 'AvSigVersion'], axis = 1, inplace=True)\n",
    "X_dummies = pd.get_dummies(X)\n",
    "X_dummies"
   ]
  },
  {
   "cell_type": "markdown",
   "metadata": {},
   "source": [
    "## RF Model"
   ]
  },
  {
   "cell_type": "code",
   "execution_count": 44,
   "metadata": {},
   "outputs": [],
   "source": [
    "param_grid = {\n",
    "    'bootstrap': [False],\n",
    "    'max_depth': [25],\n",
    "    'max_features': [2, 3],\n",
    "    'min_samples_leaf': [3, 4, 5],\n",
    "    'min_samples_split': [5, 10, 15],\n",
    "    'n_estimators': [30,35,40,45,50]\n",
    "}"
   ]
  },
  {
   "cell_type": "code",
   "execution_count": 46,
   "metadata": {},
   "outputs": [
    {
     "name": "stdout",
     "output_type": "stream",
     "text": [
      "Fitting 3 folds for each of 90 candidates, totalling 270 fits\n",
      "[CV] END bootstrap=False, max_depth=25, max_features=2, min_samples_leaf=3, min_samples_split=5, n_estimators=30; total time=  11.1s\n",
      "[CV] END bootstrap=False, max_depth=25, max_features=2, min_samples_leaf=3, min_samples_split=5, n_estimators=30; total time=  11.6s\n",
      "[CV] END bootstrap=False, max_depth=25, max_features=2, min_samples_leaf=3, min_samples_split=5, n_estimators=30; total time=  12.2s\n",
      "[CV] END bootstrap=False, max_depth=25, max_features=2, min_samples_leaf=3, min_samples_split=5, n_estimators=35; total time=  12.5s\n",
      "[CV] END bootstrap=False, max_depth=25, max_features=2, min_samples_leaf=3, min_samples_split=5, n_estimators=35; total time=  13.0s\n",
      "[CV] END bootstrap=False, max_depth=25, max_features=2, min_samples_leaf=3, min_samples_split=5, n_estimators=35; total time=  13.8s\n",
      "[CV] END bootstrap=False, max_depth=25, max_features=2, min_samples_leaf=3, min_samples_split=5, n_estimators=40; total time=  14.2s\n",
      "[CV] END bootstrap=False, max_depth=25, max_features=2, min_samples_leaf=3, min_samples_split=5, n_estimators=40; total time=  14.7s\n",
      "[CV] END bootstrap=False, max_depth=25, max_features=2, min_samples_leaf=3, min_samples_split=5, n_estimators=40; total time=   8.3s\n",
      "[CV] END bootstrap=False, max_depth=25, max_features=2, min_samples_leaf=3, min_samples_split=5, n_estimators=45; total time=   8.7s\n",
      "[CV] END bootstrap=False, max_depth=25, max_features=2, min_samples_leaf=3, min_samples_split=10, n_estimators=30; total time=   6.8s\n",
      "[CV] END bootstrap=False, max_depth=25, max_features=2, min_samples_leaf=3, min_samples_split=5, n_estimators=45; total time=   9.1s\n",
      "[CV] END bootstrap=False, max_depth=25, max_features=2, min_samples_leaf=3, min_samples_split=5, n_estimators=45; total time=   9.5s\n",
      "[CV] END bootstrap=False, max_depth=25, max_features=2, min_samples_leaf=3, min_samples_split=5, n_estimators=50; total time=  10.1s\n",
      "[CV] END bootstrap=False, max_depth=25, max_features=2, min_samples_leaf=3, min_samples_split=5, n_estimators=50; total time=  10.2s\n",
      "[CV] END bootstrap=False, max_depth=25, max_features=2, min_samples_leaf=3, min_samples_split=5, n_estimators=50; total time=  10.4s\n",
      "[CV] END bootstrap=False, max_depth=25, max_features=2, min_samples_leaf=3, min_samples_split=10, n_estimators=30; total time=   6.7s\n",
      "[CV] END bootstrap=False, max_depth=25, max_features=2, min_samples_leaf=3, min_samples_split=10, n_estimators=30; total time=   7.1s\n",
      "[CV] END bootstrap=False, max_depth=25, max_features=2, min_samples_leaf=3, min_samples_split=10, n_estimators=35; total time=   7.2s\n",
      "[CV] END bootstrap=False, max_depth=25, max_features=2, min_samples_leaf=3, min_samples_split=10, n_estimators=35; total time=   7.9s\n",
      "[CV] END bootstrap=False, max_depth=25, max_features=2, min_samples_leaf=3, min_samples_split=10, n_estimators=35; total time=   8.0s\n",
      "[CV] END bootstrap=False, max_depth=25, max_features=2, min_samples_leaf=3, min_samples_split=10, n_estimators=40; total time=   8.0s\n",
      "[CV] END bootstrap=False, max_depth=25, max_features=2, min_samples_leaf=3, min_samples_split=10, n_estimators=40; total time=   8.5s\n",
      "[CV] END bootstrap=False, max_depth=25, max_features=2, min_samples_leaf=3, min_samples_split=10, n_estimators=40; total time=   8.0s\n",
      "[CV] END bootstrap=False, max_depth=25, max_features=2, min_samples_leaf=3, min_samples_split=10, n_estimators=45; total time=   9.1s\n",
      "[CV] END bootstrap=False, max_depth=25, max_features=2, min_samples_leaf=3, min_samples_split=10, n_estimators=45; total time=   7.8s\n",
      "[CV] END bootstrap=False, max_depth=25, max_features=2, min_samples_leaf=3, min_samples_split=10, n_estimators=45; total time=   9.3s\n",
      "[CV] END bootstrap=False, max_depth=25, max_features=2, min_samples_leaf=3, min_samples_split=15, n_estimators=30; total time=   6.1s\n",
      "[CV] END bootstrap=False, max_depth=25, max_features=2, min_samples_leaf=3, min_samples_split=15, n_estimators=30; total time=   7.4s\n",
      "[CV] END bootstrap=False, max_depth=25, max_features=2, min_samples_leaf=3, min_samples_split=10, n_estimators=50; total time=  10.2s\n",
      "[CV] END bootstrap=False, max_depth=25, max_features=2, min_samples_leaf=3, min_samples_split=10, n_estimators=50; total time=   9.4s\n",
      "[CV] END bootstrap=False, max_depth=25, max_features=2, min_samples_leaf=3, min_samples_split=10, n_estimators=50; total time=  11.1s\n",
      "[CV] END bootstrap=False, max_depth=25, max_features=2, min_samples_leaf=3, min_samples_split=15, n_estimators=30; total time=   7.7s\n",
      "[CV] END bootstrap=False, max_depth=25, max_features=2, min_samples_leaf=3, min_samples_split=15, n_estimators=35; total time=   8.2s\n",
      "[CV] END bootstrap=False, max_depth=25, max_features=2, min_samples_leaf=3, min_samples_split=15, n_estimators=35; total time=   8.4s\n",
      "[CV] END bootstrap=False, max_depth=25, max_features=2, min_samples_leaf=3, min_samples_split=15, n_estimators=35; total time=   7.3s\n",
      "[CV] END bootstrap=False, max_depth=25, max_features=2, min_samples_leaf=3, min_samples_split=15, n_estimators=40; total time=   7.4s\n",
      "[CV] END bootstrap=False, max_depth=25, max_features=2, min_samples_leaf=3, min_samples_split=15, n_estimators=40; total time=   8.9s\n",
      "[CV] END bootstrap=False, max_depth=25, max_features=2, min_samples_leaf=3, min_samples_split=15, n_estimators=40; total time=   8.7s\n",
      "[CV] END bootstrap=False, max_depth=25, max_features=2, min_samples_leaf=3, min_samples_split=15, n_estimators=45; total time=   8.8s\n",
      "[CV] END bootstrap=False, max_depth=25, max_features=2, min_samples_leaf=3, min_samples_split=15, n_estimators=45; total time=  10.0s\n",
      "[CV] END bootstrap=False, max_depth=25, max_features=2, min_samples_leaf=3, min_samples_split=15, n_estimators=45; total time=  10.9s\n",
      "[CV] END bootstrap=False, max_depth=25, max_features=2, min_samples_leaf=3, min_samples_split=15, n_estimators=50; total time=   9.7s\n",
      "[CV] END bootstrap=False, max_depth=25, max_features=2, min_samples_leaf=3, min_samples_split=15, n_estimators=50; total time=  11.3s\n",
      "[CV] END bootstrap=False, max_depth=25, max_features=2, min_samples_leaf=4, min_samples_split=5, n_estimators=30; total time=   7.7s\n",
      "[CV] END bootstrap=False, max_depth=25, max_features=2, min_samples_leaf=4, min_samples_split=5, n_estimators=30; total time=   7.5s\n",
      "[CV] END bootstrap=False, max_depth=25, max_features=2, min_samples_leaf=3, min_samples_split=15, n_estimators=50; total time=  11.2s\n",
      "[CV] END bootstrap=False, max_depth=25, max_features=2, min_samples_leaf=4, min_samples_split=5, n_estimators=30; total time=   7.7s\n",
      "[CV] END bootstrap=False, max_depth=25, max_features=2, min_samples_leaf=4, min_samples_split=5, n_estimators=35; total time=   6.8s\n",
      "[CV] END bootstrap=False, max_depth=25, max_features=2, min_samples_leaf=4, min_samples_split=5, n_estimators=35; total time=   7.8s\n",
      "[CV] END bootstrap=False, max_depth=25, max_features=2, min_samples_leaf=4, min_samples_split=5, n_estimators=40; total time=   7.7s\n",
      "[CV] END bootstrap=False, max_depth=25, max_features=2, min_samples_leaf=4, min_samples_split=5, n_estimators=40; total time=   7.4s\n",
      "[CV] END bootstrap=False, max_depth=25, max_features=2, min_samples_leaf=4, min_samples_split=5, n_estimators=35; total time=   8.7s\n",
      "[CV] END bootstrap=False, max_depth=25, max_features=2, min_samples_leaf=4, min_samples_split=5, n_estimators=40; total time=   8.0s\n",
      "[CV] END bootstrap=False, max_depth=25, max_features=2, min_samples_leaf=4, min_samples_split=5, n_estimators=45; total time=   8.1s\n",
      "[CV] END bootstrap=False, max_depth=25, max_features=2, min_samples_leaf=4, min_samples_split=5, n_estimators=45; total time=   9.4s\n",
      "[CV] END bootstrap=False, max_depth=25, max_features=2, min_samples_leaf=4, min_samples_split=5, n_estimators=45; total time=   9.7s\n",
      "[CV] END bootstrap=False, max_depth=25, max_features=2, min_samples_leaf=4, min_samples_split=10, n_estimators=30; total time=   6.2s\n",
      "[CV] END bootstrap=False, max_depth=25, max_features=2, min_samples_leaf=4, min_samples_split=10, n_estimators=30; total time=   6.6s\n",
      "[CV] END bootstrap=False, max_depth=25, max_features=2, min_samples_leaf=4, min_samples_split=10, n_estimators=30; total time=   6.9s\n",
      "[CV] END bootstrap=False, max_depth=25, max_features=2, min_samples_leaf=4, min_samples_split=5, n_estimators=50; total time=  10.0s\n",
      "[CV] END bootstrap=False, max_depth=25, max_features=2, min_samples_leaf=4, min_samples_split=5, n_estimators=50; total time=   8.6s\n",
      "[CV] END bootstrap=False, max_depth=25, max_features=2, min_samples_leaf=4, min_samples_split=5, n_estimators=50; total time=   9.1s\n",
      "[CV] END bootstrap=False, max_depth=25, max_features=2, min_samples_leaf=4, min_samples_split=10, n_estimators=35; total time=   8.0s\n",
      "[CV] END bootstrap=False, max_depth=25, max_features=2, min_samples_leaf=4, min_samples_split=10, n_estimators=35; total time=   8.2s\n",
      "[CV] END bootstrap=False, max_depth=25, max_features=2, min_samples_leaf=4, min_samples_split=10, n_estimators=35; total time=   7.7s\n",
      "[CV] END bootstrap=False, max_depth=25, max_features=2, min_samples_leaf=4, min_samples_split=10, n_estimators=40; total time=   7.5s\n",
      "[CV] END bootstrap=False, max_depth=25, max_features=2, min_samples_leaf=4, min_samples_split=10, n_estimators=40; total time=   7.9s\n",
      "[CV] END bootstrap=False, max_depth=25, max_features=2, min_samples_leaf=4, min_samples_split=10, n_estimators=40; total time=   7.6s\n",
      "[CV] END bootstrap=False, max_depth=25, max_features=2, min_samples_leaf=4, min_samples_split=10, n_estimators=45; total time=   8.0s\n",
      "[CV] END bootstrap=False, max_depth=25, max_features=2, min_samples_leaf=4, min_samples_split=10, n_estimators=45; total time=   9.5s\n",
      "[CV] END bootstrap=False, max_depth=25, max_features=2, min_samples_leaf=4, min_samples_split=10, n_estimators=45; total time=   9.2s\n",
      "[CV] END bootstrap=False, max_depth=25, max_features=2, min_samples_leaf=4, min_samples_split=15, n_estimators=30; total time=   5.8s\n",
      "[CV] END bootstrap=False, max_depth=25, max_features=2, min_samples_leaf=4, min_samples_split=15, n_estimators=30; total time=   7.2s\n",
      "[CV] END bootstrap=False, max_depth=25, max_features=2, min_samples_leaf=4, min_samples_split=15, n_estimators=30; total time=   7.3s\n",
      "[CV] END bootstrap=False, max_depth=25, max_features=2, min_samples_leaf=4, min_samples_split=10, n_estimators=50; total time=  10.8s\n",
      "[CV] END bootstrap=False, max_depth=25, max_features=2, min_samples_leaf=4, min_samples_split=10, n_estimators=50; total time=   9.2s\n",
      "[CV] END bootstrap=False, max_depth=25, max_features=2, min_samples_leaf=4, min_samples_split=15, n_estimators=35; total time=   6.7s\n",
      "[CV] END bootstrap=False, max_depth=25, max_features=2, min_samples_leaf=4, min_samples_split=10, n_estimators=50; total time=  10.5s\n",
      "[CV] END bootstrap=False, max_depth=25, max_features=2, min_samples_leaf=4, min_samples_split=15, n_estimators=35; total time=   6.7s\n",
      "[CV] END bootstrap=False, max_depth=25, max_features=2, min_samples_leaf=4, min_samples_split=15, n_estimators=35; total time=   7.5s\n",
      "[CV] END bootstrap=False, max_depth=25, max_features=2, min_samples_leaf=4, min_samples_split=15, n_estimators=40; total time=   8.8s\n",
      "[CV] END bootstrap=False, max_depth=25, max_features=2, min_samples_leaf=4, min_samples_split=15, n_estimators=40; total time=   9.1s\n",
      "[CV] END bootstrap=False, max_depth=25, max_features=2, min_samples_leaf=4, min_samples_split=15, n_estimators=40; total time=   8.3s\n",
      "[CV] END bootstrap=False, max_depth=25, max_features=2, min_samples_leaf=4, min_samples_split=15, n_estimators=45; total time=   8.9s\n",
      "[CV] END bootstrap=False, max_depth=25, max_features=2, min_samples_leaf=4, min_samples_split=15, n_estimators=45; total time=   8.8s\n",
      "[CV] END bootstrap=False, max_depth=25, max_features=2, min_samples_leaf=4, min_samples_split=15, n_estimators=45; total time=   9.5s\n",
      "[CV] END bootstrap=False, max_depth=25, max_features=2, min_samples_leaf=4, min_samples_split=15, n_estimators=50; total time=   9.1s\n",
      "[CV] END bootstrap=False, max_depth=25, max_features=2, min_samples_leaf=5, min_samples_split=5, n_estimators=30; total time=   6.9s\n",
      "[CV] END bootstrap=False, max_depth=25, max_features=2, min_samples_leaf=5, min_samples_split=5, n_estimators=30; total time=   7.2s\n",
      "[CV] END bootstrap=False, max_depth=25, max_features=2, min_samples_leaf=4, min_samples_split=15, n_estimators=50; total time=  10.7s\n",
      "[CV] END bootstrap=False, max_depth=25, max_features=2, min_samples_leaf=5, min_samples_split=5, n_estimators=30; total time=   8.0s\n",
      "[CV] END bootstrap=False, max_depth=25, max_features=2, min_samples_leaf=5, min_samples_split=5, n_estimators=35; total time=   7.1s\n",
      "[CV] END bootstrap=False, max_depth=25, max_features=2, min_samples_leaf=4, min_samples_split=15, n_estimators=50; total time=  10.3s\n",
      "[CV] END bootstrap=False, max_depth=25, max_features=2, min_samples_leaf=5, min_samples_split=5, n_estimators=35; total time=   7.0s\n",
      "[CV] END bootstrap=False, max_depth=25, max_features=2, min_samples_leaf=5, min_samples_split=5, n_estimators=35; total time=   8.3s\n",
      "[CV] END bootstrap=False, max_depth=25, max_features=2, min_samples_leaf=5, min_samples_split=5, n_estimators=40; total time=   8.1s\n",
      "[CV] END bootstrap=False, max_depth=25, max_features=2, min_samples_leaf=5, min_samples_split=5, n_estimators=40; total time=   8.8s\n",
      "[CV] END bootstrap=False, max_depth=25, max_features=2, min_samples_leaf=5, min_samples_split=5, n_estimators=40; total time=   8.9s\n",
      "[CV] END bootstrap=False, max_depth=25, max_features=2, min_samples_leaf=5, min_samples_split=5, n_estimators=45; total time=   8.3s\n",
      "[CV] END bootstrap=False, max_depth=25, max_features=2, min_samples_leaf=5, min_samples_split=5, n_estimators=45; total time=   8.8s\n",
      "[CV] END bootstrap=False, max_depth=25, max_features=2, min_samples_leaf=5, min_samples_split=5, n_estimators=45; total time=  10.3s\n",
      "[CV] END bootstrap=False, max_depth=25, max_features=2, min_samples_leaf=5, min_samples_split=5, n_estimators=50; total time=  10.5s\n",
      "[CV] END bootstrap=False, max_depth=25, max_features=2, min_samples_leaf=5, min_samples_split=5, n_estimators=50; total time=  11.0s\n",
      "[CV] END bootstrap=False, max_depth=25, max_features=2, min_samples_leaf=5, min_samples_split=10, n_estimators=30; total time=   7.9s\n",
      "[CV] END bootstrap=False, max_depth=25, max_features=2, min_samples_leaf=5, min_samples_split=10, n_estimators=30; total time=   7.7s\n",
      "[CV] END bootstrap=False, max_depth=25, max_features=2, min_samples_leaf=5, min_samples_split=10, n_estimators=30; total time=   7.9s\n",
      "[CV] END bootstrap=False, max_depth=25, max_features=2, min_samples_leaf=5, min_samples_split=5, n_estimators=50; total time=  10.9s\n",
      "[CV] END bootstrap=False, max_depth=25, max_features=2, min_samples_leaf=5, min_samples_split=10, n_estimators=35; total time=   8.8s\n",
      "[CV] END bootstrap=False, max_depth=25, max_features=2, min_samples_leaf=5, min_samples_split=10, n_estimators=35; total time=   9.0s\n",
      "[CV] END bootstrap=False, max_depth=25, max_features=2, min_samples_leaf=5, min_samples_split=10, n_estimators=35; total time=   9.8s\n",
      "[CV] END bootstrap=False, max_depth=25, max_features=2, min_samples_leaf=5, min_samples_split=10, n_estimators=40; total time=  10.5s\n",
      "[CV] END bootstrap=False, max_depth=25, max_features=2, min_samples_leaf=5, min_samples_split=10, n_estimators=40; total time=   9.5s\n",
      "[CV] END bootstrap=False, max_depth=25, max_features=2, min_samples_leaf=5, min_samples_split=10, n_estimators=40; total time=  11.0s\n",
      "[CV] END bootstrap=False, max_depth=25, max_features=2, min_samples_leaf=5, min_samples_split=10, n_estimators=45; total time=  10.1s\n",
      "[CV] END bootstrap=False, max_depth=25, max_features=2, min_samples_leaf=5, min_samples_split=10, n_estimators=45; total time=  10.5s\n",
      "[CV] END bootstrap=False, max_depth=25, max_features=2, min_samples_leaf=5, min_samples_split=10, n_estimators=45; total time=  12.1s\n",
      "[CV] END bootstrap=False, max_depth=25, max_features=2, min_samples_leaf=5, min_samples_split=10, n_estimators=50; total time=  12.2s\n",
      "[CV] END bootstrap=False, max_depth=25, max_features=2, min_samples_leaf=5, min_samples_split=10, n_estimators=50; total time=  12.2s\n",
      "[CV] END bootstrap=False, max_depth=25, max_features=2, min_samples_leaf=5, min_samples_split=15, n_estimators=30; total time=   8.9s\n",
      "[CV] END bootstrap=False, max_depth=25, max_features=2, min_samples_leaf=5, min_samples_split=15, n_estimators=30; total time=   9.3s\n",
      "[CV] END bootstrap=False, max_depth=25, max_features=2, min_samples_leaf=5, min_samples_split=10, n_estimators=50; total time=  13.1s\n",
      "[CV] END bootstrap=False, max_depth=25, max_features=2, min_samples_leaf=5, min_samples_split=15, n_estimators=30; total time=   9.6s\n",
      "[CV] END bootstrap=False, max_depth=25, max_features=2, min_samples_leaf=5, min_samples_split=15, n_estimators=35; total time=  10.5s\n",
      "[CV] END bootstrap=False, max_depth=25, max_features=2, min_samples_leaf=5, min_samples_split=15, n_estimators=35; total time=  10.7s\n",
      "[CV] END bootstrap=False, max_depth=25, max_features=2, min_samples_leaf=5, min_samples_split=15, n_estimators=35; total time=  10.3s\n",
      "[CV] END bootstrap=False, max_depth=25, max_features=2, min_samples_leaf=5, min_samples_split=15, n_estimators=40; total time=  10.5s\n",
      "[CV] END bootstrap=False, max_depth=25, max_features=2, min_samples_leaf=5, min_samples_split=15, n_estimators=40; total time=   8.8s\n",
      "[CV] END bootstrap=False, max_depth=25, max_features=2, min_samples_leaf=5, min_samples_split=15, n_estimators=40; total time=  10.3s\n",
      "[CV] END bootstrap=False, max_depth=25, max_features=2, min_samples_leaf=5, min_samples_split=15, n_estimators=45; total time=  10.5s\n",
      "[CV] END bootstrap=False, max_depth=25, max_features=2, min_samples_leaf=5, min_samples_split=15, n_estimators=45; total time=   9.8s\n",
      "[CV] END bootstrap=False, max_depth=25, max_features=2, min_samples_leaf=5, min_samples_split=15, n_estimators=45; total time=   9.2s\n",
      "[CV] END bootstrap=False, max_depth=25, max_features=2, min_samples_leaf=5, min_samples_split=15, n_estimators=50; total time=  12.1s\n",
      "[CV] END bootstrap=False, max_depth=25, max_features=2, min_samples_leaf=5, min_samples_split=15, n_estimators=50; total time=  12.0s\n",
      "[CV] END bootstrap=False, max_depth=25, max_features=3, min_samples_leaf=3, min_samples_split=5, n_estimators=30; total time=  10.9s\n",
      "[CV] END bootstrap=False, max_depth=25, max_features=3, min_samples_leaf=3, min_samples_split=5, n_estimators=30; total time=  10.7s\n",
      "[CV] END bootstrap=False, max_depth=25, max_features=2, min_samples_leaf=5, min_samples_split=15, n_estimators=50; total time=  12.2s\n",
      "[CV] END bootstrap=False, max_depth=25, max_features=3, min_samples_leaf=3, min_samples_split=5, n_estimators=30; total time=  11.8s\n",
      "[CV] END bootstrap=False, max_depth=25, max_features=3, min_samples_leaf=3, min_samples_split=5, n_estimators=35; total time=  13.8s\n",
      "[CV] END bootstrap=False, max_depth=25, max_features=3, min_samples_leaf=3, min_samples_split=5, n_estimators=35; total time=  14.3s\n",
      "[CV] END bootstrap=False, max_depth=25, max_features=3, min_samples_leaf=3, min_samples_split=5, n_estimators=35; total time=  13.7s\n",
      "[CV] END bootstrap=False, max_depth=25, max_features=3, min_samples_leaf=3, min_samples_split=5, n_estimators=40; total time=  15.3s\n",
      "[CV] END bootstrap=False, max_depth=25, max_features=3, min_samples_leaf=3, min_samples_split=5, n_estimators=40; total time=  15.2s\n",
      "[CV] END bootstrap=False, max_depth=25, max_features=3, min_samples_leaf=3, min_samples_split=5, n_estimators=40; total time=  14.8s\n",
      "[CV] END bootstrap=False, max_depth=25, max_features=3, min_samples_leaf=3, min_samples_split=5, n_estimators=45; total time=  16.7s\n",
      "[CV] END bootstrap=False, max_depth=25, max_features=3, min_samples_leaf=3, min_samples_split=5, n_estimators=45; total time=  16.1s\n",
      "[CV] END bootstrap=False, max_depth=25, max_features=3, min_samples_leaf=3, min_samples_split=5, n_estimators=45; total time=  15.3s\n",
      "[CV] END bootstrap=False, max_depth=25, max_features=3, min_samples_leaf=3, min_samples_split=5, n_estimators=50; total time=  15.7s\n",
      "[CV] END bootstrap=False, max_depth=25, max_features=3, min_samples_leaf=3, min_samples_split=10, n_estimators=30; total time=   9.8s\n",
      "[CV] END bootstrap=False, max_depth=25, max_features=3, min_samples_leaf=3, min_samples_split=10, n_estimators=30; total time=  10.7s\n",
      "[CV] END bootstrap=False, max_depth=25, max_features=3, min_samples_leaf=3, min_samples_split=5, n_estimators=50; total time=  15.5s\n",
      "[CV] END bootstrap=False, max_depth=25, max_features=3, min_samples_leaf=3, min_samples_split=5, n_estimators=50; total time=  13.3s\n",
      "[CV] END bootstrap=False, max_depth=25, max_features=3, min_samples_leaf=3, min_samples_split=10, n_estimators=35; total time=   9.2s\n",
      "[CV] END bootstrap=False, max_depth=25, max_features=3, min_samples_leaf=3, min_samples_split=10, n_estimators=30; total time=  10.8s\n",
      "[CV] END bootstrap=False, max_depth=25, max_features=3, min_samples_leaf=3, min_samples_split=10, n_estimators=35; total time=   9.7s\n",
      "[CV] END bootstrap=False, max_depth=25, max_features=3, min_samples_leaf=3, min_samples_split=10, n_estimators=35; total time=  12.0s\n",
      "[CV] END bootstrap=False, max_depth=25, max_features=3, min_samples_leaf=3, min_samples_split=10, n_estimators=40; total time=  11.2s\n",
      "[CV] END bootstrap=False, max_depth=25, max_features=3, min_samples_leaf=3, min_samples_split=10, n_estimators=45; total time=  11.5s\n",
      "[CV] END bootstrap=False, max_depth=25, max_features=3, min_samples_leaf=3, min_samples_split=10, n_estimators=40; total time=  13.9s\n",
      "[CV] END bootstrap=False, max_depth=25, max_features=3, min_samples_leaf=3, min_samples_split=10, n_estimators=40; total time=  13.5s\n",
      "[CV] END bootstrap=False, max_depth=25, max_features=3, min_samples_leaf=3, min_samples_split=10, n_estimators=45; total time=  13.0s\n",
      "[CV] END bootstrap=False, max_depth=25, max_features=3, min_samples_leaf=3, min_samples_split=10, n_estimators=50; total time=  12.9s\n",
      "[CV] END bootstrap=False, max_depth=25, max_features=3, min_samples_leaf=3, min_samples_split=10, n_estimators=45; total time=  15.4s\n",
      "[CV] END bootstrap=False, max_depth=25, max_features=3, min_samples_leaf=3, min_samples_split=15, n_estimators=30; total time=  10.2s\n",
      "[CV] END bootstrap=False, max_depth=25, max_features=3, min_samples_leaf=3, min_samples_split=10, n_estimators=50; total time=  15.7s\n",
      "[CV] END bootstrap=False, max_depth=25, max_features=3, min_samples_leaf=3, min_samples_split=15, n_estimators=30; total time=  11.7s\n",
      "[CV] END bootstrap=False, max_depth=25, max_features=3, min_samples_leaf=3, min_samples_split=15, n_estimators=30; total time=  11.4s\n",
      "[CV] END bootstrap=False, max_depth=25, max_features=3, min_samples_leaf=3, min_samples_split=10, n_estimators=50; total time=  15.8s\n",
      "[CV] END bootstrap=False, max_depth=25, max_features=3, min_samples_leaf=3, min_samples_split=15, n_estimators=35; total time=  11.0s\n",
      "[CV] END bootstrap=False, max_depth=25, max_features=3, min_samples_leaf=3, min_samples_split=15, n_estimators=35; total time=  13.9s\n",
      "[CV] END bootstrap=False, max_depth=25, max_features=3, min_samples_leaf=3, min_samples_split=15, n_estimators=35; total time=  12.8s\n",
      "[CV] END bootstrap=False, max_depth=25, max_features=3, min_samples_leaf=3, min_samples_split=15, n_estimators=40; total time=  13.1s\n",
      "[CV] END bootstrap=False, max_depth=25, max_features=3, min_samples_leaf=3, min_samples_split=15, n_estimators=40; total time=  12.8s\n",
      "[CV] END bootstrap=False, max_depth=25, max_features=3, min_samples_leaf=3, min_samples_split=15, n_estimators=40; total time=  14.5s\n",
      "[CV] END bootstrap=False, max_depth=25, max_features=3, min_samples_leaf=3, min_samples_split=15, n_estimators=45; total time=  15.0s\n",
      "[CV] END bootstrap=False, max_depth=25, max_features=3, min_samples_leaf=3, min_samples_split=15, n_estimators=45; total time=  14.5s\n",
      "[CV] END bootstrap=False, max_depth=25, max_features=3, min_samples_leaf=3, min_samples_split=15, n_estimators=45; total time=  16.2s\n",
      "[CV] END bootstrap=False, max_depth=25, max_features=3, min_samples_leaf=3, min_samples_split=15, n_estimators=50; total time=  15.1s\n",
      "[CV] END bootstrap=False, max_depth=25, max_features=3, min_samples_leaf=3, min_samples_split=15, n_estimators=50; total time=  17.1s\n",
      "[CV] END bootstrap=False, max_depth=25, max_features=3, min_samples_leaf=4, min_samples_split=5, n_estimators=30; total time=  10.2s\n",
      "[CV] END bootstrap=False, max_depth=25, max_features=3, min_samples_leaf=4, min_samples_split=5, n_estimators=30; total time=  10.7s\n",
      "[CV] END bootstrap=False, max_depth=25, max_features=3, min_samples_leaf=4, min_samples_split=5, n_estimators=35; total time=   9.9s\n",
      "[CV] END bootstrap=False, max_depth=25, max_features=3, min_samples_leaf=3, min_samples_split=15, n_estimators=50; total time=  15.4s\n",
      "[CV] END bootstrap=False, max_depth=25, max_features=3, min_samples_leaf=4, min_samples_split=5, n_estimators=30; total time=  10.8s\n",
      "[CV] END bootstrap=False, max_depth=25, max_features=3, min_samples_leaf=4, min_samples_split=5, n_estimators=35; total time=  10.4s\n",
      "[CV] END bootstrap=False, max_depth=25, max_features=3, min_samples_leaf=4, min_samples_split=5, n_estimators=35; total time=  12.5s\n",
      "[CV] END bootstrap=False, max_depth=25, max_features=3, min_samples_leaf=4, min_samples_split=5, n_estimators=40; total time=  11.1s\n",
      "[CV] END bootstrap=False, max_depth=25, max_features=3, min_samples_leaf=4, min_samples_split=5, n_estimators=40; total time=  14.3s\n",
      "[CV] END bootstrap=False, max_depth=25, max_features=3, min_samples_leaf=4, min_samples_split=5, n_estimators=45; total time=  12.1s\n",
      "[CV] END bootstrap=False, max_depth=25, max_features=3, min_samples_leaf=4, min_samples_split=5, n_estimators=40; total time=  14.5s\n",
      "[CV] END bootstrap=False, max_depth=25, max_features=3, min_samples_leaf=4, min_samples_split=5, n_estimators=45; total time=  14.2s\n",
      "[CV] END bootstrap=False, max_depth=25, max_features=3, min_samples_leaf=4, min_samples_split=5, n_estimators=50; total time=  12.2s\n",
      "[CV] END bootstrap=False, max_depth=25, max_features=3, min_samples_leaf=4, min_samples_split=5, n_estimators=45; total time=  16.8s\n",
      "[CV] END bootstrap=False, max_depth=25, max_features=3, min_samples_leaf=4, min_samples_split=5, n_estimators=50; total time=  11.1s\n",
      "[CV] END bootstrap=False, max_depth=25, max_features=3, min_samples_leaf=4, min_samples_split=10, n_estimators=30; total time=   7.1s\n",
      "[CV] END bootstrap=False, max_depth=25, max_features=3, min_samples_leaf=4, min_samples_split=5, n_estimators=50; total time=  13.1s\n",
      "[CV] END bootstrap=False, max_depth=25, max_features=3, min_samples_leaf=4, min_samples_split=10, n_estimators=30; total time=  10.6s\n",
      "[CV] END bootstrap=False, max_depth=25, max_features=3, min_samples_leaf=4, min_samples_split=10, n_estimators=35; total time=  11.2s\n",
      "[CV] END bootstrap=False, max_depth=25, max_features=3, min_samples_leaf=4, min_samples_split=10, n_estimators=30; total time=  11.9s\n",
      "[CV] END bootstrap=False, max_depth=25, max_features=3, min_samples_leaf=4, min_samples_split=10, n_estimators=35; total time=   8.6s\n",
      "[CV] END bootstrap=False, max_depth=25, max_features=3, min_samples_leaf=4, min_samples_split=10, n_estimators=35; total time=   9.5s\n",
      "[CV] END bootstrap=False, max_depth=25, max_features=3, min_samples_leaf=4, min_samples_split=10, n_estimators=40; total time=   9.2s\n",
      "[CV] END bootstrap=False, max_depth=25, max_features=3, min_samples_leaf=4, min_samples_split=10, n_estimators=40; total time=  10.2s\n",
      "[CV] END bootstrap=False, max_depth=25, max_features=3, min_samples_leaf=4, min_samples_split=10, n_estimators=40; total time=  13.7s\n",
      "[CV] END bootstrap=False, max_depth=25, max_features=3, min_samples_leaf=4, min_samples_split=10, n_estimators=45; total time=  12.8s\n",
      "[CV] END bootstrap=False, max_depth=25, max_features=3, min_samples_leaf=4, min_samples_split=10, n_estimators=45; total time=  12.2s\n",
      "[CV] END bootstrap=False, max_depth=25, max_features=3, min_samples_leaf=4, min_samples_split=15, n_estimators=30; total time=  10.0s\n",
      "[CV] END bootstrap=False, max_depth=25, max_features=3, min_samples_leaf=4, min_samples_split=10, n_estimators=50; total time=  13.7s\n",
      "[CV] END bootstrap=False, max_depth=25, max_features=3, min_samples_leaf=4, min_samples_split=10, n_estimators=45; total time=  15.7s\n",
      "[CV] END bootstrap=False, max_depth=25, max_features=3, min_samples_leaf=4, min_samples_split=10, n_estimators=50; total time=  17.9s\n",
      "[CV] END bootstrap=False, max_depth=25, max_features=3, min_samples_leaf=4, min_samples_split=15, n_estimators=30; total time=  12.1s\n",
      "[CV] END bootstrap=False, max_depth=25, max_features=3, min_samples_leaf=4, min_samples_split=10, n_estimators=50; total time=  18.8s\n",
      "[CV] END bootstrap=False, max_depth=25, max_features=3, min_samples_leaf=4, min_samples_split=15, n_estimators=30; total time=  12.7s\n",
      "[CV] END bootstrap=False, max_depth=25, max_features=3, min_samples_leaf=4, min_samples_split=15, n_estimators=35; total time=  10.4s\n",
      "[CV] END bootstrap=False, max_depth=25, max_features=3, min_samples_leaf=4, min_samples_split=15, n_estimators=35; total time=  10.4s\n",
      "[CV] END bootstrap=False, max_depth=25, max_features=3, min_samples_leaf=4, min_samples_split=15, n_estimators=35; total time=  10.2s\n",
      "[CV] END bootstrap=False, max_depth=25, max_features=3, min_samples_leaf=4, min_samples_split=15, n_estimators=40; total time=  10.6s\n",
      "[CV] END bootstrap=False, max_depth=25, max_features=3, min_samples_leaf=4, min_samples_split=15, n_estimators=45; total time=  11.6s\n",
      "[CV] END bootstrap=False, max_depth=25, max_features=3, min_samples_leaf=4, min_samples_split=15, n_estimators=40; total time=  15.3s\n",
      "[CV] END bootstrap=False, max_depth=25, max_features=3, min_samples_leaf=4, min_samples_split=15, n_estimators=40; total time=  15.7s\n",
      "[CV] END bootstrap=False, max_depth=25, max_features=3, min_samples_leaf=4, min_samples_split=15, n_estimators=45; total time=  16.1s\n",
      "[CV] END bootstrap=False, max_depth=25, max_features=3, min_samples_leaf=4, min_samples_split=15, n_estimators=50; total time=  11.1s\n",
      "[CV] END bootstrap=False, max_depth=25, max_features=3, min_samples_leaf=4, min_samples_split=15, n_estimators=50; total time=  11.2s\n",
      "[CV] END bootstrap=False, max_depth=25, max_features=3, min_samples_leaf=4, min_samples_split=15, n_estimators=50; total time=  13.2s\n",
      "[CV] END bootstrap=False, max_depth=25, max_features=3, min_samples_leaf=4, min_samples_split=15, n_estimators=45; total time=  16.5s\n",
      "[CV] END bootstrap=False, max_depth=25, max_features=3, min_samples_leaf=5, min_samples_split=5, n_estimators=30; total time=   8.0s\n",
      "[CV] END bootstrap=False, max_depth=25, max_features=3, min_samples_leaf=5, min_samples_split=5, n_estimators=30; total time=  11.9s\n",
      "[CV] END bootstrap=False, max_depth=25, max_features=3, min_samples_leaf=5, min_samples_split=5, n_estimators=35; total time=  11.0s\n",
      "[CV] END bootstrap=False, max_depth=25, max_features=3, min_samples_leaf=5, min_samples_split=5, n_estimators=30; total time=  12.3s\n",
      "[CV] END bootstrap=False, max_depth=25, max_features=3, min_samples_leaf=5, min_samples_split=5, n_estimators=35; total time=  12.1s\n",
      "[CV] END bootstrap=False, max_depth=25, max_features=3, min_samples_leaf=5, min_samples_split=5, n_estimators=35; total time=  11.4s\n",
      "[CV] END bootstrap=False, max_depth=25, max_features=3, min_samples_leaf=5, min_samples_split=5, n_estimators=40; total time=  11.1s\n",
      "[CV] END bootstrap=False, max_depth=25, max_features=3, min_samples_leaf=5, min_samples_split=5, n_estimators=40; total time=  14.5s\n",
      "[CV] END bootstrap=False, max_depth=25, max_features=3, min_samples_leaf=5, min_samples_split=5, n_estimators=40; total time=  15.0s\n",
      "[CV] END bootstrap=False, max_depth=25, max_features=3, min_samples_leaf=5, min_samples_split=5, n_estimators=45; total time=  11.7s\n",
      "[CV] END bootstrap=False, max_depth=25, max_features=3, min_samples_leaf=5, min_samples_split=5, n_estimators=45; total time=  12.2s\n",
      "[CV] END bootstrap=False, max_depth=25, max_features=3, min_samples_leaf=5, min_samples_split=5, n_estimators=50; total time=  12.9s\n",
      "[CV] END bootstrap=False, max_depth=25, max_features=3, min_samples_leaf=5, min_samples_split=5, n_estimators=45; total time=  15.2s\n",
      "[CV] END bootstrap=False, max_depth=25, max_features=3, min_samples_leaf=5, min_samples_split=5, n_estimators=50; total time=  12.9s\n",
      "[CV] END bootstrap=False, max_depth=25, max_features=3, min_samples_leaf=5, min_samples_split=10, n_estimators=30; total time=  12.2s\n",
      "[CV] END bootstrap=False, max_depth=25, max_features=3, min_samples_leaf=5, min_samples_split=5, n_estimators=50; total time=  18.0s\n",
      "[CV] END bootstrap=False, max_depth=25, max_features=3, min_samples_leaf=5, min_samples_split=10, n_estimators=30; total time=  11.7s\n",
      "[CV] END bootstrap=False, max_depth=25, max_features=3, min_samples_leaf=5, min_samples_split=10, n_estimators=30; total time=  10.3s\n",
      "[CV] END bootstrap=False, max_depth=25, max_features=3, min_samples_leaf=5, min_samples_split=10, n_estimators=35; total time=  11.3s\n",
      "[CV] END bootstrap=False, max_depth=25, max_features=3, min_samples_leaf=5, min_samples_split=10, n_estimators=35; total time=  12.9s\n",
      "[CV] END bootstrap=False, max_depth=25, max_features=3, min_samples_leaf=5, min_samples_split=10, n_estimators=35; total time=  12.6s\n",
      "[CV] END bootstrap=False, max_depth=25, max_features=3, min_samples_leaf=5, min_samples_split=10, n_estimators=40; total time=  10.7s\n",
      "[CV] END bootstrap=False, max_depth=25, max_features=3, min_samples_leaf=5, min_samples_split=10, n_estimators=40; total time=  10.1s\n",
      "[CV] END bootstrap=False, max_depth=25, max_features=3, min_samples_leaf=5, min_samples_split=10, n_estimators=40; total time=  12.8s\n",
      "[CV] END bootstrap=False, max_depth=25, max_features=3, min_samples_leaf=5, min_samples_split=10, n_estimators=45; total time=  12.9s\n",
      "[CV] END bootstrap=False, max_depth=25, max_features=3, min_samples_leaf=5, min_samples_split=10, n_estimators=45; total time=  16.0s\n",
      "[CV] END bootstrap=False, max_depth=25, max_features=3, min_samples_leaf=5, min_samples_split=15, n_estimators=30; total time=   9.1s\n",
      "[CV] END bootstrap=False, max_depth=25, max_features=3, min_samples_leaf=5, min_samples_split=10, n_estimators=45; total time=  13.3s\n",
      "[CV] END bootstrap=False, max_depth=25, max_features=3, min_samples_leaf=5, min_samples_split=10, n_estimators=50; total time=  14.5s\n",
      "[CV] END bootstrap=False, max_depth=25, max_features=3, min_samples_leaf=5, min_samples_split=10, n_estimators=50; total time=  14.4s\n",
      "[CV] END bootstrap=False, max_depth=25, max_features=3, min_samples_leaf=5, min_samples_split=10, n_estimators=50; total time=  16.0s\n",
      "[CV] END bootstrap=False, max_depth=25, max_features=3, min_samples_leaf=5, min_samples_split=15, n_estimators=30; total time=  10.4s\n",
      "[CV] END bootstrap=False, max_depth=25, max_features=3, min_samples_leaf=5, min_samples_split=15, n_estimators=35; total time=   8.9s\n",
      "[CV] END bootstrap=False, max_depth=25, max_features=3, min_samples_leaf=5, min_samples_split=15, n_estimators=30; total time=  10.8s\n",
      "[CV] END bootstrap=False, max_depth=25, max_features=3, min_samples_leaf=5, min_samples_split=15, n_estimators=35; total time=   9.2s\n",
      "[CV] END bootstrap=False, max_depth=25, max_features=3, min_samples_leaf=5, min_samples_split=15, n_estimators=40; total time=  11.7s\n",
      "[CV] END bootstrap=False, max_depth=25, max_features=3, min_samples_leaf=5, min_samples_split=15, n_estimators=35; total time=  14.1s\n",
      "[CV] END bootstrap=False, max_depth=25, max_features=3, min_samples_leaf=5, min_samples_split=15, n_estimators=40; total time=  14.0s\n",
      "[CV] END bootstrap=False, max_depth=25, max_features=3, min_samples_leaf=5, min_samples_split=15, n_estimators=40; total time=  15.2s\n",
      "[CV] END bootstrap=False, max_depth=25, max_features=3, min_samples_leaf=5, min_samples_split=15, n_estimators=45; total time=  14.5s\n",
      "[CV] END bootstrap=False, max_depth=25, max_features=3, min_samples_leaf=5, min_samples_split=15, n_estimators=45; total time=  13.8s\n",
      "[CV] END bootstrap=False, max_depth=25, max_features=3, min_samples_leaf=5, min_samples_split=15, n_estimators=50; total time=  12.5s\n",
      "[CV] END bootstrap=False, max_depth=25, max_features=3, min_samples_leaf=5, min_samples_split=15, n_estimators=45; total time=  14.5s\n",
      "[CV] END bootstrap=False, max_depth=25, max_features=3, min_samples_leaf=5, min_samples_split=15, n_estimators=50; total time=   9.1s\n",
      "[CV] END bootstrap=False, max_depth=25, max_features=3, min_samples_leaf=5, min_samples_split=15, n_estimators=50; total time=   8.7s\n"
     ]
    },
    {
     "data": {
      "text/html": [
       "<style>#sk-container-id-11 {color: black;}#sk-container-id-11 pre{padding: 0;}#sk-container-id-11 div.sk-toggleable {background-color: white;}#sk-container-id-11 label.sk-toggleable__label {cursor: pointer;display: block;width: 100%;margin-bottom: 0;padding: 0.3em;box-sizing: border-box;text-align: center;}#sk-container-id-11 label.sk-toggleable__label-arrow:before {content: \"▸\";float: left;margin-right: 0.25em;color: #696969;}#sk-container-id-11 label.sk-toggleable__label-arrow:hover:before {color: black;}#sk-container-id-11 div.sk-estimator:hover label.sk-toggleable__label-arrow:before {color: black;}#sk-container-id-11 div.sk-toggleable__content {max-height: 0;max-width: 0;overflow: hidden;text-align: left;background-color: #f0f8ff;}#sk-container-id-11 div.sk-toggleable__content pre {margin: 0.2em;color: black;border-radius: 0.25em;background-color: #f0f8ff;}#sk-container-id-11 input.sk-toggleable__control:checked~div.sk-toggleable__content {max-height: 200px;max-width: 100%;overflow: auto;}#sk-container-id-11 input.sk-toggleable__control:checked~label.sk-toggleable__label-arrow:before {content: \"▾\";}#sk-container-id-11 div.sk-estimator input.sk-toggleable__control:checked~label.sk-toggleable__label {background-color: #d4ebff;}#sk-container-id-11 div.sk-label input.sk-toggleable__control:checked~label.sk-toggleable__label {background-color: #d4ebff;}#sk-container-id-11 input.sk-hidden--visually {border: 0;clip: rect(1px 1px 1px 1px);clip: rect(1px, 1px, 1px, 1px);height: 1px;margin: -1px;overflow: hidden;padding: 0;position: absolute;width: 1px;}#sk-container-id-11 div.sk-estimator {font-family: monospace;background-color: #f0f8ff;border: 1px dotted black;border-radius: 0.25em;box-sizing: border-box;margin-bottom: 0.5em;}#sk-container-id-11 div.sk-estimator:hover {background-color: #d4ebff;}#sk-container-id-11 div.sk-parallel-item::after {content: \"\";width: 100%;border-bottom: 1px solid gray;flex-grow: 1;}#sk-container-id-11 div.sk-label:hover label.sk-toggleable__label {background-color: #d4ebff;}#sk-container-id-11 div.sk-serial::before {content: \"\";position: absolute;border-left: 1px solid gray;box-sizing: border-box;top: 0;bottom: 0;left: 50%;z-index: 0;}#sk-container-id-11 div.sk-serial {display: flex;flex-direction: column;align-items: center;background-color: white;padding-right: 0.2em;padding-left: 0.2em;position: relative;}#sk-container-id-11 div.sk-item {position: relative;z-index: 1;}#sk-container-id-11 div.sk-parallel {display: flex;align-items: stretch;justify-content: center;background-color: white;position: relative;}#sk-container-id-11 div.sk-item::before, #sk-container-id-11 div.sk-parallel-item::before {content: \"\";position: absolute;border-left: 1px solid gray;box-sizing: border-box;top: 0;bottom: 0;left: 50%;z-index: -1;}#sk-container-id-11 div.sk-parallel-item {display: flex;flex-direction: column;z-index: 1;position: relative;background-color: white;}#sk-container-id-11 div.sk-parallel-item:first-child::after {align-self: flex-end;width: 50%;}#sk-container-id-11 div.sk-parallel-item:last-child::after {align-self: flex-start;width: 50%;}#sk-container-id-11 div.sk-parallel-item:only-child::after {width: 0;}#sk-container-id-11 div.sk-dashed-wrapped {border: 1px dashed gray;margin: 0 0.4em 0.5em 0.4em;box-sizing: border-box;padding-bottom: 0.4em;background-color: white;}#sk-container-id-11 div.sk-label label {font-family: monospace;font-weight: bold;display: inline-block;line-height: 1.2em;}#sk-container-id-11 div.sk-label-container {text-align: center;}#sk-container-id-11 div.sk-container {/* jupyter's `normalize.less` sets `[hidden] { display: none; }` but bootstrap.min.css set `[hidden] { display: none !important; }` so we also need the `!important` here to be able to override the default hidden behavior on the sphinx rendered scikit-learn.org. See: https://github.com/scikit-learn/scikit-learn/issues/21755 */display: inline-block !important;position: relative;}#sk-container-id-11 div.sk-text-repr-fallback {display: none;}</style><div id=\"sk-container-id-11\" class=\"sk-top-container\"><div class=\"sk-text-repr-fallback\"><pre>GridSearchCV(cv=3, estimator=RandomForestClassifier(), n_jobs=-1,\n",
       "             param_grid={&#x27;bootstrap&#x27;: [False], &#x27;max_depth&#x27;: [25],\n",
       "                         &#x27;max_features&#x27;: [2, 3], &#x27;min_samples_leaf&#x27;: [3, 4, 5],\n",
       "                         &#x27;min_samples_split&#x27;: [5, 10, 15],\n",
       "                         &#x27;n_estimators&#x27;: [30, 35, 40, 45, 50]},\n",
       "             verbose=2)</pre><b>In a Jupyter environment, please rerun this cell to show the HTML representation or trust the notebook. <br />On GitHub, the HTML representation is unable to render, please try loading this page with nbviewer.org.</b></div><div class=\"sk-container\" hidden><div class=\"sk-item sk-dashed-wrapped\"><div class=\"sk-label-container\"><div class=\"sk-label sk-toggleable\"><input class=\"sk-toggleable__control sk-hidden--visually\" id=\"sk-estimator-id-13\" type=\"checkbox\" ><label for=\"sk-estimator-id-13\" class=\"sk-toggleable__label sk-toggleable__label-arrow\">GridSearchCV</label><div class=\"sk-toggleable__content\"><pre>GridSearchCV(cv=3, estimator=RandomForestClassifier(), n_jobs=-1,\n",
       "             param_grid={&#x27;bootstrap&#x27;: [False], &#x27;max_depth&#x27;: [25],\n",
       "                         &#x27;max_features&#x27;: [2, 3], &#x27;min_samples_leaf&#x27;: [3, 4, 5],\n",
       "                         &#x27;min_samples_split&#x27;: [5, 10, 15],\n",
       "                         &#x27;n_estimators&#x27;: [30, 35, 40, 45, 50]},\n",
       "             verbose=2)</pre></div></div></div><div class=\"sk-parallel\"><div class=\"sk-parallel-item\"><div class=\"sk-item\"><div class=\"sk-label-container\"><div class=\"sk-label sk-toggleable\"><input class=\"sk-toggleable__control sk-hidden--visually\" id=\"sk-estimator-id-14\" type=\"checkbox\" ><label for=\"sk-estimator-id-14\" class=\"sk-toggleable__label sk-toggleable__label-arrow\">estimator: RandomForestClassifier</label><div class=\"sk-toggleable__content\"><pre>RandomForestClassifier()</pre></div></div></div><div class=\"sk-serial\"><div class=\"sk-item\"><div class=\"sk-estimator sk-toggleable\"><input class=\"sk-toggleable__control sk-hidden--visually\" id=\"sk-estimator-id-15\" type=\"checkbox\" ><label for=\"sk-estimator-id-15\" class=\"sk-toggleable__label sk-toggleable__label-arrow\">RandomForestClassifier</label><div class=\"sk-toggleable__content\"><pre>RandomForestClassifier()</pre></div></div></div></div></div></div></div></div></div></div>"
      ],
      "text/plain": [
       "GridSearchCV(cv=3, estimator=RandomForestClassifier(), n_jobs=-1,\n",
       "             param_grid={'bootstrap': [False], 'max_depth': [25],\n",
       "                         'max_features': [2, 3], 'min_samples_leaf': [3, 4, 5],\n",
       "                         'min_samples_split': [5, 10, 15],\n",
       "                         'n_estimators': [30, 35, 40, 45, 50]},\n",
       "             verbose=2)"
      ]
     },
     "execution_count": 46,
     "metadata": {},
     "output_type": "execute_result"
    }
   ],
   "source": [
    "rf = RandomForestClassifier()\n",
    "grid_search = GridSearchCV(estimator = rf, param_grid = param_grid, \n",
    "                          cv = 3, n_jobs = -1, verbose = 2)\n",
    "# rf_random = RandomizedSearchCV(estimator = rf, param_distributions = random_grid, n_iter = 100, cv = 3, verbose=2, random_state=42, n_jobs = -1)\n",
    "grid_search.fit(X_dummies[0:100000], y[0:100000])"
   ]
  },
  {
   "cell_type": "code",
   "execution_count": 47,
   "metadata": {},
   "outputs": [
    {
     "data": {
      "text/plain": [
       "{'bootstrap': False,\n",
       " 'max_depth': 25,\n",
       " 'max_features': 3,\n",
       " 'min_samples_leaf': 4,\n",
       " 'min_samples_split': 15,\n",
       " 'n_estimators': 45}"
      ]
     },
     "execution_count": 47,
     "metadata": {},
     "output_type": "execute_result"
    }
   ],
   "source": [
    "grid_search.best_params_"
   ]
  },
  {
   "cell_type": "code",
   "execution_count": 12,
   "metadata": {},
   "outputs": [
    {
     "data": {
      "text/html": [
       "<style>#sk-container-id-1 {color: black;}#sk-container-id-1 pre{padding: 0;}#sk-container-id-1 div.sk-toggleable {background-color: white;}#sk-container-id-1 label.sk-toggleable__label {cursor: pointer;display: block;width: 100%;margin-bottom: 0;padding: 0.3em;box-sizing: border-box;text-align: center;}#sk-container-id-1 label.sk-toggleable__label-arrow:before {content: \"▸\";float: left;margin-right: 0.25em;color: #696969;}#sk-container-id-1 label.sk-toggleable__label-arrow:hover:before {color: black;}#sk-container-id-1 div.sk-estimator:hover label.sk-toggleable__label-arrow:before {color: black;}#sk-container-id-1 div.sk-toggleable__content {max-height: 0;max-width: 0;overflow: hidden;text-align: left;background-color: #f0f8ff;}#sk-container-id-1 div.sk-toggleable__content pre {margin: 0.2em;color: black;border-radius: 0.25em;background-color: #f0f8ff;}#sk-container-id-1 input.sk-toggleable__control:checked~div.sk-toggleable__content {max-height: 200px;max-width: 100%;overflow: auto;}#sk-container-id-1 input.sk-toggleable__control:checked~label.sk-toggleable__label-arrow:before {content: \"▾\";}#sk-container-id-1 div.sk-estimator input.sk-toggleable__control:checked~label.sk-toggleable__label {background-color: #d4ebff;}#sk-container-id-1 div.sk-label input.sk-toggleable__control:checked~label.sk-toggleable__label {background-color: #d4ebff;}#sk-container-id-1 input.sk-hidden--visually {border: 0;clip: rect(1px 1px 1px 1px);clip: rect(1px, 1px, 1px, 1px);height: 1px;margin: -1px;overflow: hidden;padding: 0;position: absolute;width: 1px;}#sk-container-id-1 div.sk-estimator {font-family: monospace;background-color: #f0f8ff;border: 1px dotted black;border-radius: 0.25em;box-sizing: border-box;margin-bottom: 0.5em;}#sk-container-id-1 div.sk-estimator:hover {background-color: #d4ebff;}#sk-container-id-1 div.sk-parallel-item::after {content: \"\";width: 100%;border-bottom: 1px solid gray;flex-grow: 1;}#sk-container-id-1 div.sk-label:hover label.sk-toggleable__label {background-color: #d4ebff;}#sk-container-id-1 div.sk-serial::before {content: \"\";position: absolute;border-left: 1px solid gray;box-sizing: border-box;top: 0;bottom: 0;left: 50%;z-index: 0;}#sk-container-id-1 div.sk-serial {display: flex;flex-direction: column;align-items: center;background-color: white;padding-right: 0.2em;padding-left: 0.2em;position: relative;}#sk-container-id-1 div.sk-item {position: relative;z-index: 1;}#sk-container-id-1 div.sk-parallel {display: flex;align-items: stretch;justify-content: center;background-color: white;position: relative;}#sk-container-id-1 div.sk-item::before, #sk-container-id-1 div.sk-parallel-item::before {content: \"\";position: absolute;border-left: 1px solid gray;box-sizing: border-box;top: 0;bottom: 0;left: 50%;z-index: -1;}#sk-container-id-1 div.sk-parallel-item {display: flex;flex-direction: column;z-index: 1;position: relative;background-color: white;}#sk-container-id-1 div.sk-parallel-item:first-child::after {align-self: flex-end;width: 50%;}#sk-container-id-1 div.sk-parallel-item:last-child::after {align-self: flex-start;width: 50%;}#sk-container-id-1 div.sk-parallel-item:only-child::after {width: 0;}#sk-container-id-1 div.sk-dashed-wrapped {border: 1px dashed gray;margin: 0 0.4em 0.5em 0.4em;box-sizing: border-box;padding-bottom: 0.4em;background-color: white;}#sk-container-id-1 div.sk-label label {font-family: monospace;font-weight: bold;display: inline-block;line-height: 1.2em;}#sk-container-id-1 div.sk-label-container {text-align: center;}#sk-container-id-1 div.sk-container {/* jupyter's `normalize.less` sets `[hidden] { display: none; }` but bootstrap.min.css set `[hidden] { display: none !important; }` so we also need the `!important` here to be able to override the default hidden behavior on the sphinx rendered scikit-learn.org. See: https://github.com/scikit-learn/scikit-learn/issues/21755 */display: inline-block !important;position: relative;}#sk-container-id-1 div.sk-text-repr-fallback {display: none;}</style><div id=\"sk-container-id-1\" class=\"sk-top-container\"><div class=\"sk-text-repr-fallback\"><pre>RandomForestClassifier(max_depth=25, min_samples_leaf=4, min_samples_split=15,\n",
       "                       n_estimators=45, random_state=0)</pre><b>In a Jupyter environment, please rerun this cell to show the HTML representation or trust the notebook. <br />On GitHub, the HTML representation is unable to render, please try loading this page with nbviewer.org.</b></div><div class=\"sk-container\" hidden><div class=\"sk-item\"><div class=\"sk-estimator sk-toggleable\"><input class=\"sk-toggleable__control sk-hidden--visually\" id=\"sk-estimator-id-1\" type=\"checkbox\" checked><label for=\"sk-estimator-id-1\" class=\"sk-toggleable__label sk-toggleable__label-arrow\">RandomForestClassifier</label><div class=\"sk-toggleable__content\"><pre>RandomForestClassifier(max_depth=25, min_samples_leaf=4, min_samples_split=15,\n",
       "                       n_estimators=45, random_state=0)</pre></div></div></div></div></div>"
      ],
      "text/plain": [
       "RandomForestClassifier(max_depth=25, min_samples_leaf=4, min_samples_split=15,\n",
       "                       n_estimators=45, random_state=0)"
      ]
     },
     "execution_count": 12,
     "metadata": {},
     "output_type": "execute_result"
    }
   ],
   "source": [
    "rf = RandomForestClassifier(n_estimators = 45, max_depth=25, random_state=0, min_samples_leaf=4, min_samples_split=15)\n",
    "rf.fit(X_dummies[0:100000], y[0:100000])"
   ]
  },
  {
   "cell_type": "code",
   "execution_count": 13,
   "metadata": {},
   "outputs": [
    {
     "name": "stdout",
     "output_type": "stream",
     "text": [
      "training auc:  0.7974359482086044\n",
      "testing auc:  0.6635140113841181\n"
     ]
    }
   ],
   "source": [
    "y_pred_train_xgb = rf.predict_proba(X_dummies[0:100000])\n",
    "rf_predict_train_ones = y_pred_train_xgb[:,1]\n",
    "\n",
    "y_pred_test_xgb = rf.predict_proba(X_dummies[200000:250000])\n",
    "rf_predict_test_ones = y_pred_test_xgb[:,1]\n",
    "\n",
    "y_train = y[0:100000]\n",
    "y_test = y[200000:250000]\n",
    "\n",
    "auc_train = roc_auc_score(y_train, rf_predict_train_ones)\n",
    "auc_test = roc_auc_score(y_test, rf_predict_test_ones)\n",
    "print(\"training auc: \" , auc_train)\n",
    "print(\"testing auc: \" ,auc_test)"
   ]
  },
  {
   "cell_type": "code",
   "execution_count": 14,
   "metadata": {},
   "outputs": [
    {
     "name": "stdout",
     "output_type": "stream",
     "text": [
      "                                               Feature  Importance\n",
      "105                  AVProductStatesIdentifier_53447.0    0.055119\n",
      "2                                  AVProductsInstalled    0.043475\n",
      "9                     Census_SystemVolumeTotalCapacity    0.042580\n",
      "12   Census_InternalPrimaryDiagonalDisplaySizeInInches    0.030110\n",
      "8                      Census_PrimaryDiskTotalCapacity    0.025761\n",
      "..                                                 ...         ...\n",
      "281                    Census_OEMNameIdentifier_5771.0    0.000000\n",
      "189  OsBuildLab_7601.24214.amd64fre.win7sp1_ldr_esc...    0.000000\n",
      "280                    Census_OEMNameIdentifier_5682.0    0.000000\n",
      "205                               IeVerIdentifier_71.0    0.000000\n",
      "118                                    Processor_other    0.000000\n",
      "\n",
      "[589 rows x 2 columns]\n"
     ]
    }
   ],
   "source": [
    "feature_importances = rf.feature_importances_\n",
    "importance_df = pd.DataFrame({'Feature': X_dummies.columns, 'Importance': feature_importances})\n",
    "importance_df = importance_df.sort_values(by='Importance', ascending=False)\n",
    "print(importance_df)"
   ]
  },
  {
   "cell_type": "code",
   "execution_count": 15,
   "metadata": {},
   "outputs": [
    {
     "data": {
      "image/png": "[encoded data removed]",
      "text/plain": [
       "<Figure size 800x600 with 1 Axes>"
      ]
     },
     "metadata": {},
     "output_type": "display_data"
    }
   ],
   "source": [
    "plt.figure(figsize=(8, 6))\n",
    "plt.barh(importance_df['Feature'].iloc[:20][::-1], importance_df['Importance'].iloc[:20][::-1])\n",
    "plt.xlabel('Importance')\n",
    "plt.title('Feature Importances')\n",
    "plt.show()"
   ]
  },
  {
   "cell_type": "code",
   "execution_count": 107,
   "metadata": {},
   "outputs": [
    {
     "data": {
      "text/plain": [
       "['Census_SystemVolumeTotalCapacity',\n",
       " 'Census_InternalPrimaryDiagonalDisplaySizeInInches',\n",
       " 'AVProductStatesIdentifier_53447.0',\n",
       " 'Census_PrimaryDiskTotalCapacity',\n",
       " 'Census_TotalPhysicalRAM',\n",
       " 'AVProductsInstalled',\n",
       " 'Census_InternalPrimaryDisplayResolutionHorizontal',\n",
       " 'EngineVersion_1.1.15100.1',\n",
       " 'Census_InternalPrimaryDisplayResolutionVertical',\n",
       " 'Census_InternalBatteryNumberOfCharges',\n",
       " 'Census_ProcessorCoreCount',\n",
       " 'Wdft_IsGamer',\n",
       " 'Census_OSInstallTypeName_UUPUpgrade',\n",
       " 'AppVersion_4.18.1807.18075',\n",
       " 'AVProductStatesIdentifier_other',\n",
       " 'EngineVersion_1.1.15200.1',\n",
       " 'AVProductStatesIdentifier_7945.0',\n",
       " 'Census_ActivationChannel_Retail',\n",
       " 'Census_OSInstallLanguageIdentifier_8.0',\n",
       " 'Census_IsSecureBootEnabled']"
      ]
     },
     "execution_count": 107,
     "metadata": {},
     "output_type": "execute_result"
    }
   ],
   "source": [
    "top_20_features_rf = importance_df['Feature'].iloc[:20].tolist()\n",
    "top_20_features_rf"
   ]
  },
  {
   "cell_type": "markdown",
   "metadata": {},
   "source": [
    "## XGBoost"
   ]
  },
  {
   "cell_type": "code",
   "execution_count": 14,
   "metadata": {},
   "outputs": [
    {
     "ename": "",
     "evalue": "",
     "output_type": "error",
     "traceback": [
      "\u001b[1;31mThe Kernel crashed while executing code in the the current cell or a previous cell. Please review the code in the cell(s) to identify a possible cause of the failure. Click <a href='https://aka.ms/vscodeJupyterKernelCrash'>here</a> for more info. View Jupyter <a href='command:jupyter.viewOutput'>log</a> for further details."
     ]
    }
   ],
   "source": [
    "dtrain = xgb.DMatrix(X_dummies[0:100000], label=y[0:100000])\n",
    "dtest = xgb.DMatrix(X_dummies[200000:250000], label=y[200000:250000])"
   ]
  },
  {
   "cell_type": "code",
   "execution_count": 12,
   "metadata": {},
   "outputs": [],
   "source": [
    "# params = {\n",
    "#     'objective': 'binary:logistic',  # for binary classification problems\n",
    "#     'max_depth': 3,\n",
    "#     'learning_rate': 0.1,\n",
    "#     'eval_metric': 'auc'\n",
    "# }\n",
    "params = {\n",
    "        'min_child_weight': [5],\n",
    "        'gamma': [0.5, 1, 1.5],\n",
    "        'subsample': [0.6, 0.8, 1.0],\n",
    "        'colsample_bytree': [0.6, 0.8, 1.0],\n",
    "        'max_depth': [3, 4, 5],\n",
    "        'learning_rate': [0.1]\n",
    "        }\n",
    "num_rounds = 3000  # Number of boosting rounds (iterations)"
   ]
  },
  {
   "cell_type": "code",
   "execution_count": 11,
   "metadata": {},
   "outputs": [
    {
     "ename": "NameError",
     "evalue": "name 'params' is not defined",
     "output_type": "error",
     "traceback": [
      "\u001b[0;31m---------------------------------------------------------------------------\u001b[0m",
      "\u001b[0;31mNameError\u001b[0m                                 Traceback (most recent call last)",
      "\u001b[1;32m/mnt/c/Users/nuobe/Desktop/MITclass_Edge/Project/model_ensemble.ipynb Cell 25\u001b[0m line \u001b[0;36m3\n\u001b[1;32m      <a href='vscode-notebook-cell://wsl%2Bubuntu/mnt/c/Users/nuobe/Desktop/MITclass_Edge/Project/model_ensemble.ipynb#X33sdnNjb2RlLXJlbW90ZQ%3D%3D?line=0'>1</a>\u001b[0m \u001b[39m# xgb_model = xgb.train(params, dtrain, num_rounds)\u001b[39;00m\n\u001b[1;32m      <a href='vscode-notebook-cell://wsl%2Bubuntu/mnt/c/Users/nuobe/Desktop/MITclass_Edge/Project/model_ensemble.ipynb#X33sdnNjb2RlLXJlbW90ZQ%3D%3D?line=1'>2</a>\u001b[0m xgb \u001b[39m=\u001b[39m XGBClassifier(n_estimators\u001b[39m=\u001b[39m\u001b[39m200\u001b[39m, objective\u001b[39m=\u001b[39m\u001b[39m'\u001b[39m\u001b[39mbinary:logistic\u001b[39m\u001b[39m'\u001b[39m, silent\u001b[39m=\u001b[39m\u001b[39m1\u001b[39m, nthread\u001b[39m=\u001b[39m\u001b[39m1\u001b[39m)\n\u001b[0;32m----> <a href='vscode-notebook-cell://wsl%2Bubuntu/mnt/c/Users/nuobe/Desktop/MITclass_Edge/Project/model_ensemble.ipynb#X33sdnNjb2RlLXJlbW90ZQ%3D%3D?line=2'>3</a>\u001b[0m grid_search \u001b[39m=\u001b[39m GridSearchCV(estimator \u001b[39m=\u001b[39m xgb, param_grid \u001b[39m=\u001b[39m params, \n\u001b[1;32m      <a href='vscode-notebook-cell://wsl%2Bubuntu/mnt/c/Users/nuobe/Desktop/MITclass_Edge/Project/model_ensemble.ipynb#X33sdnNjb2RlLXJlbW90ZQ%3D%3D?line=3'>4</a>\u001b[0m                           cv \u001b[39m=\u001b[39m \u001b[39m3\u001b[39m, n_jobs \u001b[39m=\u001b[39m \u001b[39m-\u001b[39m\u001b[39m1\u001b[39m, verbose \u001b[39m=\u001b[39m \u001b[39m2\u001b[39m)\n\u001b[1;32m      <a href='vscode-notebook-cell://wsl%2Bubuntu/mnt/c/Users/nuobe/Desktop/MITclass_Edge/Project/model_ensemble.ipynb#X33sdnNjb2RlLXJlbW90ZQ%3D%3D?line=4'>5</a>\u001b[0m \u001b[39m# random_search = RandomizedSearchCV(xgb, param_distributions=params, n_iter=20, scoring='roc_auc', n_jobs=-1, cv=3, verbose=2, random_state=42)\u001b[39;00m\n\u001b[1;32m      <a href='vscode-notebook-cell://wsl%2Bubuntu/mnt/c/Users/nuobe/Desktop/MITclass_Edge/Project/model_ensemble.ipynb#X33sdnNjb2RlLXJlbW90ZQ%3D%3D?line=5'>6</a>\u001b[0m grid_search\u001b[39m.\u001b[39mfit(X_dummies[\u001b[39m0\u001b[39m:\u001b[39m100000\u001b[39m], y[\u001b[39m0\u001b[39m:\u001b[39m100000\u001b[39m])\n",
      "\u001b[0;31mNameError\u001b[0m: name 'params' is not defined"
     ]
    }
   ],
   "source": [
    "# xgb_model = xgb.train(params, dtrain, num_rounds)\n",
    "xgb = XGBClassifier(n_estimators=200, objective='binary:logistic', silent=1, nthread=1)\n",
    "grid_search = GridSearchCV(estimator = xgb, param_grid = params, \n",
    "                          cv = 3, n_jobs = -1, verbose = 2)\n",
    "# random_search = RandomizedSearchCV(xgb, param_distributions=params, n_iter=20, scoring='roc_auc', n_jobs=-1, cv=3, verbose=2, random_state=42)\n",
    "grid_search.fit(X_dummies[0:100000], y[0:100000])"
   ]
  },
  {
   "cell_type": "code",
   "execution_count": null,
   "metadata": {},
   "outputs": [],
   "source": [
    "random_search.best_params_"
   ]
  },
  {
   "cell_type": "code",
   "execution_count": 127,
   "metadata": {},
   "outputs": [
    {
     "name": "stdout",
     "output_type": "stream",
     "text": [
      "AUC: 0.6714\n",
      "ACC: 0.6249\n"
     ]
    }
   ],
   "source": [
    "y_pred_xgb = xgb_model.predict(dtest)\n",
    "\n",
    "# For binary classification\n",
    "y_pred_xgb_binary = [1 if p > 0.5 else 0 for p in y_pred_xgb]\n",
    "\n",
    "auc = roc_auc_score(y_test, y_pred_xgb)\n",
    "acc = accuracy_score(y_test, y_pred_xgb_binary)\n",
    "print(f'AUC: {auc:.4f}')\n",
    "print(f'ACC: {acc:.4f}')"
   ]
  },
  {
   "cell_type": "markdown",
   "metadata": {},
   "source": [
    "# Tree"
   ]
  },
  {
   "cell_type": "code",
   "execution_count": 11,
   "metadata": {},
   "outputs": [
    {
     "data": {
      "text/html": [
       "<style>#sk-container-id-1 {color: black;}#sk-container-id-1 pre{padding: 0;}#sk-container-id-1 div.sk-toggleable {background-color: white;}#sk-container-id-1 label.sk-toggleable__label {cursor: pointer;display: block;width: 100%;margin-bottom: 0;padding: 0.3em;box-sizing: border-box;text-align: center;}#sk-container-id-1 label.sk-toggleable__label-arrow:before {content: \"▸\";float: left;margin-right: 0.25em;color: #696969;}#sk-container-id-1 label.sk-toggleable__label-arrow:hover:before {color: black;}#sk-container-id-1 div.sk-estimator:hover label.sk-toggleable__label-arrow:before {color: black;}#sk-container-id-1 div.sk-toggleable__content {max-height: 0;max-width: 0;overflow: hidden;text-align: left;background-color: #f0f8ff;}#sk-container-id-1 div.sk-toggleable__content pre {margin: 0.2em;color: black;border-radius: 0.25em;background-color: #f0f8ff;}#sk-container-id-1 input.sk-toggleable__control:checked~div.sk-toggleable__content {max-height: 200px;max-width: 100%;overflow: auto;}#sk-container-id-1 input.sk-toggleable__control:checked~label.sk-toggleable__label-arrow:before {content: \"▾\";}#sk-container-id-1 div.sk-estimator input.sk-toggleable__control:checked~label.sk-toggleable__label {background-color: #d4ebff;}#sk-container-id-1 div.sk-label input.sk-toggleable__control:checked~label.sk-toggleable__label {background-color: #d4ebff;}#sk-container-id-1 input.sk-hidden--visually {border: 0;clip: rect(1px 1px 1px 1px);clip: rect(1px, 1px, 1px, 1px);height: 1px;margin: -1px;overflow: hidden;padding: 0;position: absolute;width: 1px;}#sk-container-id-1 div.sk-estimator {font-family: monospace;background-color: #f0f8ff;border: 1px dotted black;border-radius: 0.25em;box-sizing: border-box;margin-bottom: 0.5em;}#sk-container-id-1 div.sk-estimator:hover {background-color: #d4ebff;}#sk-container-id-1 div.sk-parallel-item::after {content: \"\";width: 100%;border-bottom: 1px solid gray;flex-grow: 1;}#sk-container-id-1 div.sk-label:hover label.sk-toggleable__label {background-color: #d4ebff;}#sk-container-id-1 div.sk-serial::before {content: \"\";position: absolute;border-left: 1px solid gray;box-sizing: border-box;top: 0;bottom: 0;left: 50%;z-index: 0;}#sk-container-id-1 div.sk-serial {display: flex;flex-direction: column;align-items: center;background-color: white;padding-right: 0.2em;padding-left: 0.2em;position: relative;}#sk-container-id-1 div.sk-item {position: relative;z-index: 1;}#sk-container-id-1 div.sk-parallel {display: flex;align-items: stretch;justify-content: center;background-color: white;position: relative;}#sk-container-id-1 div.sk-item::before, #sk-container-id-1 div.sk-parallel-item::before {content: \"\";position: absolute;border-left: 1px solid gray;box-sizing: border-box;top: 0;bottom: 0;left: 50%;z-index: -1;}#sk-container-id-1 div.sk-parallel-item {display: flex;flex-direction: column;z-index: 1;position: relative;background-color: white;}#sk-container-id-1 div.sk-parallel-item:first-child::after {align-self: flex-end;width: 50%;}#sk-container-id-1 div.sk-parallel-item:last-child::after {align-self: flex-start;width: 50%;}#sk-container-id-1 div.sk-parallel-item:only-child::after {width: 0;}#sk-container-id-1 div.sk-dashed-wrapped {border: 1px dashed gray;margin: 0 0.4em 0.5em 0.4em;box-sizing: border-box;padding-bottom: 0.4em;background-color: white;}#sk-container-id-1 div.sk-label label {font-family: monospace;font-weight: bold;display: inline-block;line-height: 1.2em;}#sk-container-id-1 div.sk-label-container {text-align: center;}#sk-container-id-1 div.sk-container {/* jupyter's `normalize.less` sets `[hidden] { display: none; }` but bootstrap.min.css set `[hidden] { display: none !important; }` so we also need the `!important` here to be able to override the default hidden behavior on the sphinx rendered scikit-learn.org. See: https://github.com/scikit-learn/scikit-learn/issues/21755 */display: inline-block !important;position: relative;}#sk-container-id-1 div.sk-text-repr-fallback {display: none;}</style><div id=\"sk-container-id-1\" class=\"sk-top-container\"><div class=\"sk-text-repr-fallback\"><pre>DecisionTreeClassifier()</pre><b>In a Jupyter environment, please rerun this cell to show the HTML representation or trust the notebook. <br />On GitHub, the HTML representation is unable to render, please try loading this page with nbviewer.org.</b></div><div class=\"sk-container\" hidden><div class=\"sk-item\"><div class=\"sk-estimator sk-toggleable\"><input class=\"sk-toggleable__control sk-hidden--visually\" id=\"sk-estimator-id-1\" type=\"checkbox\" checked><label for=\"sk-estimator-id-1\" class=\"sk-toggleable__label sk-toggleable__label-arrow\">DecisionTreeClassifier</label><div class=\"sk-toggleable__content\"><pre>DecisionTreeClassifier()</pre></div></div></div></div></div>"
      ],
      "text/plain": [
       "DecisionTreeClassifier()"
      ]
     },
     "execution_count": 11,
     "metadata": {},
     "output_type": "execute_result"
    }
   ],
   "source": [
    "dtree_model = tree.DecisionTreeClassifier()\n",
    "dtree_model.fit(X_dummies[0:10000], y[0:10000])"
   ]
  },
  {
   "cell_type": "code",
   "execution_count": 12,
   "metadata": {},
   "outputs": [
    {
     "name": "stdout",
     "output_type": "stream",
     "text": [
      "AUC: 0.5487421798864975\n"
     ]
    }
   ],
   "source": [
    "#predictions = dtree.predict(X_dummies[200000:250000])\n",
    "auc = roc_auc_score(y[20000:25000], dtree_model.predict_proba(X_dummies[20000:25000])[:, 1])\n",
    "print(f'AUC: {auc}')"
   ]
  },
  {
   "cell_type": "code",
   "execution_count": 29,
   "metadata": {},
   "outputs": [
    {
     "data": {
      "text/html": [
       "<style>#sk-container-id-4 {color: black;}#sk-container-id-4 pre{padding: 0;}#sk-container-id-4 div.sk-toggleable {background-color: white;}#sk-container-id-4 label.sk-toggleable__label {cursor: pointer;display: block;width: 100%;margin-bottom: 0;padding: 0.3em;box-sizing: border-box;text-align: center;}#sk-container-id-4 label.sk-toggleable__label-arrow:before {content: \"▸\";float: left;margin-right: 0.25em;color: #696969;}#sk-container-id-4 label.sk-toggleable__label-arrow:hover:before {color: black;}#sk-container-id-4 div.sk-estimator:hover label.sk-toggleable__label-arrow:before {color: black;}#sk-container-id-4 div.sk-toggleable__content {max-height: 0;max-width: 0;overflow: hidden;text-align: left;background-color: #f0f8ff;}#sk-container-id-4 div.sk-toggleable__content pre {margin: 0.2em;color: black;border-radius: 0.25em;background-color: #f0f8ff;}#sk-container-id-4 input.sk-toggleable__control:checked~div.sk-toggleable__content {max-height: 200px;max-width: 100%;overflow: auto;}#sk-container-id-4 input.sk-toggleable__control:checked~label.sk-toggleable__label-arrow:before {content: \"▾\";}#sk-container-id-4 div.sk-estimator input.sk-toggleable__control:checked~label.sk-toggleable__label {background-color: #d4ebff;}#sk-container-id-4 div.sk-label input.sk-toggleable__control:checked~label.sk-toggleable__label {background-color: #d4ebff;}#sk-container-id-4 input.sk-hidden--visually {border: 0;clip: rect(1px 1px 1px 1px);clip: rect(1px, 1px, 1px, 1px);height: 1px;margin: -1px;overflow: hidden;padding: 0;position: absolute;width: 1px;}#sk-container-id-4 div.sk-estimator {font-family: monospace;background-color: #f0f8ff;border: 1px dotted black;border-radius: 0.25em;box-sizing: border-box;margin-bottom: 0.5em;}#sk-container-id-4 div.sk-estimator:hover {background-color: #d4ebff;}#sk-container-id-4 div.sk-parallel-item::after {content: \"\";width: 100%;border-bottom: 1px solid gray;flex-grow: 1;}#sk-container-id-4 div.sk-label:hover label.sk-toggleable__label {background-color: #d4ebff;}#sk-container-id-4 div.sk-serial::before {content: \"\";position: absolute;border-left: 1px solid gray;box-sizing: border-box;top: 0;bottom: 0;left: 50%;z-index: 0;}#sk-container-id-4 div.sk-serial {display: flex;flex-direction: column;align-items: center;background-color: white;padding-right: 0.2em;padding-left: 0.2em;position: relative;}#sk-container-id-4 div.sk-item {position: relative;z-index: 1;}#sk-container-id-4 div.sk-parallel {display: flex;align-items: stretch;justify-content: center;background-color: white;position: relative;}#sk-container-id-4 div.sk-item::before, #sk-container-id-4 div.sk-parallel-item::before {content: \"\";position: absolute;border-left: 1px solid gray;box-sizing: border-box;top: 0;bottom: 0;left: 50%;z-index: -1;}#sk-container-id-4 div.sk-parallel-item {display: flex;flex-direction: column;z-index: 1;position: relative;background-color: white;}#sk-container-id-4 div.sk-parallel-item:first-child::after {align-self: flex-end;width: 50%;}#sk-container-id-4 div.sk-parallel-item:last-child::after {align-self: flex-start;width: 50%;}#sk-container-id-4 div.sk-parallel-item:only-child::after {width: 0;}#sk-container-id-4 div.sk-dashed-wrapped {border: 1px dashed gray;margin: 0 0.4em 0.5em 0.4em;box-sizing: border-box;padding-bottom: 0.4em;background-color: white;}#sk-container-id-4 div.sk-label label {font-family: monospace;font-weight: bold;display: inline-block;line-height: 1.2em;}#sk-container-id-4 div.sk-label-container {text-align: center;}#sk-container-id-4 div.sk-container {/* jupyter's `normalize.less` sets `[hidden] { display: none; }` but bootstrap.min.css set `[hidden] { display: none !important; }` so we also need the `!important` here to be able to override the default hidden behavior on the sphinx rendered scikit-learn.org. See: https://github.com/scikit-learn/scikit-learn/issues/21755 */display: inline-block !important;position: relative;}#sk-container-id-4 div.sk-text-repr-fallback {display: none;}</style><div id=\"sk-container-id-4\" class=\"sk-top-container\"><div class=\"sk-text-repr-fallback\"><pre>GridSearchCV(cv=5, estimator=DecisionTreeClassifier(), n_jobs=-1,\n",
       "             param_grid={&#x27;criterion&#x27;: [&#x27;gini&#x27;, &#x27;entropy&#x27;],\n",
       "                         &#x27;max_depth&#x27;: [3, 5, 7, 10], &#x27;min_samples_leaf&#x27;: [2, 4],\n",
       "                         &#x27;min_samples_split&#x27;: [2, 5, 10]},\n",
       "             scoring=&#x27;roc_auc&#x27;)</pre><b>In a Jupyter environment, please rerun this cell to show the HTML representation or trust the notebook. <br />On GitHub, the HTML representation is unable to render, please try loading this page with nbviewer.org.</b></div><div class=\"sk-container\" hidden><div class=\"sk-item sk-dashed-wrapped\"><div class=\"sk-label-container\"><div class=\"sk-label sk-toggleable\"><input class=\"sk-toggleable__control sk-hidden--visually\" id=\"sk-estimator-id-6\" type=\"checkbox\" ><label for=\"sk-estimator-id-6\" class=\"sk-toggleable__label sk-toggleable__label-arrow\">GridSearchCV</label><div class=\"sk-toggleable__content\"><pre>GridSearchCV(cv=5, estimator=DecisionTreeClassifier(), n_jobs=-1,\n",
       "             param_grid={&#x27;criterion&#x27;: [&#x27;gini&#x27;, &#x27;entropy&#x27;],\n",
       "                         &#x27;max_depth&#x27;: [3, 5, 7, 10], &#x27;min_samples_leaf&#x27;: [2, 4],\n",
       "                         &#x27;min_samples_split&#x27;: [2, 5, 10]},\n",
       "             scoring=&#x27;roc_auc&#x27;)</pre></div></div></div><div class=\"sk-parallel\"><div class=\"sk-parallel-item\"><div class=\"sk-item\"><div class=\"sk-label-container\"><div class=\"sk-label sk-toggleable\"><input class=\"sk-toggleable__control sk-hidden--visually\" id=\"sk-estimator-id-7\" type=\"checkbox\" ><label for=\"sk-estimator-id-7\" class=\"sk-toggleable__label sk-toggleable__label-arrow\">estimator: DecisionTreeClassifier</label><div class=\"sk-toggleable__content\"><pre>DecisionTreeClassifier()</pre></div></div></div><div class=\"sk-serial\"><div class=\"sk-item\"><div class=\"sk-estimator sk-toggleable\"><input class=\"sk-toggleable__control sk-hidden--visually\" id=\"sk-estimator-id-8\" type=\"checkbox\" ><label for=\"sk-estimator-id-8\" class=\"sk-toggleable__label sk-toggleable__label-arrow\">DecisionTreeClassifier</label><div class=\"sk-toggleable__content\"><pre>DecisionTreeClassifier()</pre></div></div></div></div></div></div></div></div></div></div>"
      ],
      "text/plain": [
       "GridSearchCV(cv=5, estimator=DecisionTreeClassifier(), n_jobs=-1,\n",
       "             param_grid={'criterion': ['gini', 'entropy'],\n",
       "                         'max_depth': [3, 5, 7, 10], 'min_samples_leaf': [2, 4],\n",
       "                         'min_samples_split': [2, 5, 10]},\n",
       "             scoring='roc_auc')"
      ]
     },
     "execution_count": 29,
     "metadata": {},
     "output_type": "execute_result"
    }
   ],
   "source": [
    "param_grid = {\n",
    "    'criterion': ['gini', 'entropy'],\n",
    "    'max_depth': [3, 5, 7, 10],\n",
    "    'min_samples_split': [2, 5, 10],\n",
    "    'min_samples_leaf': [2, 4]\n",
    "}\n",
    "\n",
    "grid_search = GridSearchCV(dtree_model, param_grid, scoring='roc_auc', cv=5, n_jobs=-1)\n",
    "grid_search.fit(X_dummies[0:100000], y[0:100000])"
   ]
  },
  {
   "cell_type": "code",
   "execution_count": 14,
   "metadata": {},
   "outputs": [],
   "source": [
    "best_params = grid_search.best_params_\n",
    "best_clf = grid_search.best_estimator_"
   ]
  },
  {
   "cell_type": "code",
   "execution_count": 30,
   "metadata": {},
   "outputs": [],
   "source": [
    "tree_pred = best_clf.predict_proba(X_dummies[200000:250000])[:, 1]"
   ]
  },
  {
   "cell_type": "code",
   "execution_count": 50,
   "metadata": {},
   "outputs": [
    {
     "name": "stdout",
     "output_type": "stream",
     "text": [
      "AUC: 0.6166418691700607\n"
     ]
    }
   ],
   "source": [
    "auc_grid = roc_auc_score(y[200000:250000], best_clf.predict_proba(X_dummies[200000:250000])[:, 1])\n",
    "print(f'AUC: {auc_grid}')"
   ]
  },
  {
   "cell_type": "markdown",
   "metadata": {},
   "source": [
    "# LogReg"
   ]
  },
  {
   "cell_type": "code",
   "execution_count": 119,
   "metadata": {},
   "outputs": [
    {
     "name": "stderr",
     "output_type": "stream",
     "text": [
      "/home/nuobeiz/.local/lib/python3.10/site-packages/sklearn/svm/_base.py:1250: ConvergenceWarning: Liblinear failed to converge, increase the number of iterations.\n",
      "  warnings.warn(\n"
     ]
    },
    {
     "data": {
      "text/html": [
       "<style>#sk-container-id-6 {color: black;}#sk-container-id-6 pre{padding: 0;}#sk-container-id-6 div.sk-toggleable {background-color: white;}#sk-container-id-6 label.sk-toggleable__label {cursor: pointer;display: block;width: 100%;margin-bottom: 0;padding: 0.3em;box-sizing: border-box;text-align: center;}#sk-container-id-6 label.sk-toggleable__label-arrow:before {content: \"▸\";float: left;margin-right: 0.25em;color: #696969;}#sk-container-id-6 label.sk-toggleable__label-arrow:hover:before {color: black;}#sk-container-id-6 div.sk-estimator:hover label.sk-toggleable__label-arrow:before {color: black;}#sk-container-id-6 div.sk-toggleable__content {max-height: 0;max-width: 0;overflow: hidden;text-align: left;background-color: #f0f8ff;}#sk-container-id-6 div.sk-toggleable__content pre {margin: 0.2em;color: black;border-radius: 0.25em;background-color: #f0f8ff;}#sk-container-id-6 input.sk-toggleable__control:checked~div.sk-toggleable__content {max-height: 200px;max-width: 100%;overflow: auto;}#sk-container-id-6 input.sk-toggleable__control:checked~label.sk-toggleable__label-arrow:before {content: \"▾\";}#sk-container-id-6 div.sk-estimator input.sk-toggleable__control:checked~label.sk-toggleable__label {background-color: #d4ebff;}#sk-container-id-6 div.sk-label input.sk-toggleable__control:checked~label.sk-toggleable__label {background-color: #d4ebff;}#sk-container-id-6 input.sk-hidden--visually {border: 0;clip: rect(1px 1px 1px 1px);clip: rect(1px, 1px, 1px, 1px);height: 1px;margin: -1px;overflow: hidden;padding: 0;position: absolute;width: 1px;}#sk-container-id-6 div.sk-estimator {font-family: monospace;background-color: #f0f8ff;border: 1px dotted black;border-radius: 0.25em;box-sizing: border-box;margin-bottom: 0.5em;}#sk-container-id-6 div.sk-estimator:hover {background-color: #d4ebff;}#sk-container-id-6 div.sk-parallel-item::after {content: \"\";width: 100%;border-bottom: 1px solid gray;flex-grow: 1;}#sk-container-id-6 div.sk-label:hover label.sk-toggleable__label {background-color: #d4ebff;}#sk-container-id-6 div.sk-serial::before {content: \"\";position: absolute;border-left: 1px solid gray;box-sizing: border-box;top: 0;bottom: 0;left: 50%;z-index: 0;}#sk-container-id-6 div.sk-serial {display: flex;flex-direction: column;align-items: center;background-color: white;padding-right: 0.2em;padding-left: 0.2em;position: relative;}#sk-container-id-6 div.sk-item {position: relative;z-index: 1;}#sk-container-id-6 div.sk-parallel {display: flex;align-items: stretch;justify-content: center;background-color: white;position: relative;}#sk-container-id-6 div.sk-item::before, #sk-container-id-6 div.sk-parallel-item::before {content: \"\";position: absolute;border-left: 1px solid gray;box-sizing: border-box;top: 0;bottom: 0;left: 50%;z-index: -1;}#sk-container-id-6 div.sk-parallel-item {display: flex;flex-direction: column;z-index: 1;position: relative;background-color: white;}#sk-container-id-6 div.sk-parallel-item:first-child::after {align-self: flex-end;width: 50%;}#sk-container-id-6 div.sk-parallel-item:last-child::after {align-self: flex-start;width: 50%;}#sk-container-id-6 div.sk-parallel-item:only-child::after {width: 0;}#sk-container-id-6 div.sk-dashed-wrapped {border: 1px dashed gray;margin: 0 0.4em 0.5em 0.4em;box-sizing: border-box;padding-bottom: 0.4em;background-color: white;}#sk-container-id-6 div.sk-label label {font-family: monospace;font-weight: bold;display: inline-block;line-height: 1.2em;}#sk-container-id-6 div.sk-label-container {text-align: center;}#sk-container-id-6 div.sk-container {/* jupyter's `normalize.less` sets `[hidden] { display: none; }` but bootstrap.min.css set `[hidden] { display: none !important; }` so we also need the `!important` here to be able to override the default hidden behavior on the sphinx rendered scikit-learn.org. See: https://github.com/scikit-learn/scikit-learn/issues/21755 */display: inline-block !important;position: relative;}#sk-container-id-6 div.sk-text-repr-fallback {display: none;}</style><div id=\"sk-container-id-6\" class=\"sk-top-container\"><div class=\"sk-text-repr-fallback\"><pre>LogisticRegression(penalty=&#x27;l1&#x27;, solver=&#x27;liblinear&#x27;)</pre><b>In a Jupyter environment, please rerun this cell to show the HTML representation or trust the notebook. <br />On GitHub, the HTML representation is unable to render, please try loading this page with nbviewer.org.</b></div><div class=\"sk-container\" hidden><div class=\"sk-item\"><div class=\"sk-estimator sk-toggleable\"><input class=\"sk-toggleable__control sk-hidden--visually\" id=\"sk-estimator-id-10\" type=\"checkbox\" checked><label for=\"sk-estimator-id-10\" class=\"sk-toggleable__label sk-toggleable__label-arrow\">LogisticRegression</label><div class=\"sk-toggleable__content\"><pre>LogisticRegression(penalty=&#x27;l1&#x27;, solver=&#x27;liblinear&#x27;)</pre></div></div></div></div></div>"
      ],
      "text/plain": [
       "LogisticRegression(penalty='l1', solver='liblinear')"
      ]
     },
     "execution_count": 119,
     "metadata": {},
     "output_type": "execute_result"
    }
   ],
   "source": [
    "# model = DecisionTreeClassifier()\n",
    "model = LogisticRegression(penalty='l1', solver='liblinear')\n",
    "model.fit(X_dummies[0:10000], y[0:10000])"
   ]
  },
  {
   "cell_type": "code",
   "execution_count": 126,
   "metadata": {},
   "outputs": [
    {
     "name": "stdout",
     "output_type": "stream",
     "text": [
      "AUC: 0.6087\n",
      "acurracy: 0.6092\n"
     ]
    }
   ],
   "source": [
    "y_pred_log = model.predict(X_dummies[200000:250000])\n",
    "y_pred_log_binary = [1 if p > 0.5 else 0 for p in y_pred_log]\n",
    "\n",
    "auc = roc_auc_score(y_test, y_pred_log)\n",
    "acurracy = accuracy_score(y_test, y_pred_log_binary)\n",
    "print(f'AUC: {auc:.4f}')\n",
    "print(f'acurracy: {acurracy:.4f}')"
   ]
  },
  {
   "cell_type": "markdown",
   "metadata": {},
   "source": [
    "## Soft Voting and Hard Voting"
   ]
  },
  {
   "cell_type": "code",
   "execution_count": 50,
   "metadata": {},
   "outputs": [
    {
     "ename": "ValueError",
     "evalue": "operands could not be broadcast together with shapes (50000,) (50000,2) ",
     "output_type": "error",
     "traceback": [
      "\u001b[0;31m---------------------------------------------------------------------------\u001b[0m",
      "\u001b[0;31mValueError\u001b[0m                                Traceback (most recent call last)",
      "\u001b[1;32m/mnt/c/Users/nuobe/Desktop/MITclass_Edge/Project/model_ensemble.ipynb Cell 39\u001b[0m line \u001b[0;36m1\n\u001b[0;32m----> <a href='vscode-notebook-cell://wsl%2Bubuntu/mnt/c/Users/nuobe/Desktop/MITclass_Edge/Project/model_ensemble.ipynb#X50sdnNjb2RlLXJlbW90ZQ%3D%3D?line=0'>1</a>\u001b[0m soft_voting \u001b[39m=\u001b[39m (rf_predict_test_ones\u001b[39m+\u001b[39;49my_pred_xgb)\u001b[39m/\u001b[39m\u001b[39m2\u001b[39m\n\u001b[1;32m      <a href='vscode-notebook-cell://wsl%2Bubuntu/mnt/c/Users/nuobe/Desktop/MITclass_Edge/Project/model_ensemble.ipynb#X50sdnNjb2RlLXJlbW90ZQ%3D%3D?line=1'>2</a>\u001b[0m auc \u001b[39m=\u001b[39m roc_auc_score(y_test, soft_voting)\n\u001b[1;32m      <a href='vscode-notebook-cell://wsl%2Bubuntu/mnt/c/Users/nuobe/Desktop/MITclass_Edge/Project/model_ensemble.ipynb#X50sdnNjb2RlLXJlbW90ZQ%3D%3D?line=2'>3</a>\u001b[0m auc\n",
      "\u001b[0;31mValueError\u001b[0m: operands could not be broadcast together with shapes (50000,) (50000,2) "
     ]
    }
   ],
   "source": [
    "soft_voting = (rf_predict_test_ones+y_pred_xgb)/2\n",
    "auc = roc_auc_score(y_test, soft_voting)\n",
    "auc"
   ]
  },
  {
   "cell_type": "code",
   "execution_count": null,
   "metadata": {},
   "outputs": [],
   "source": []
  }
 ],
 "metadata": {
  "kernelspec": {
   "display_name": "Python 3 (ipykernel)",
   "language": "python",
   "name": "python3"
  },
  "language_info": {
   "codemirror_mode": {
    "name": "ipython",
    "version": 3
   },
   "file_extension": ".py",
   "mimetype": "text/x-python",
   "name": "python",
   "nbconvert_exporter": "python",
   "pygments_lexer": "ipython3",
   "version": "3.10.6"
  }
 },
 "nbformat": 4,
 "nbformat_minor": 4
}
