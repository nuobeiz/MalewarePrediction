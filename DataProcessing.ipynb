{
 "cells": [
  {
   "cell_type": "markdown",
   "id": "2fc1dfb6-0d12-46d8-8e81-eb70e50f6f53",
   "metadata": {
    "jp-MarkdownHeadingCollapsed": true,
    "tags": []
   },
   "source": [
    "# Import Data/Packages"
   ]
  },
  {
   "cell_type": "code",
   "execution_count": 2,
   "id": "6c2153c6-fdd9-48d5-80c5-81d84a9de73c",
   "metadata": {},
   "outputs": [],
   "source": [
    "import matplotlib.pyplot as plt\n",
    "import pandas as pd"
   ]
  },
  {
   "cell_type": "code",
   "execution_count": 3,
   "id": "737b4a17-1f6c-446f-a10c-5631995c3653",
   "metadata": {},
   "outputs": [
    {
     "name": "stderr",
     "output_type": "stream",
     "text": [
      "/tmp/ipykernel_7839/2655540190.py:1: DtypeWarning: Columns (28) have mixed types. Specify dtype option on import or set low_memory=False.\n",
      "  training_data = pd.read_csv(\"train_subset_1.csv\")\n"
     ]
    }
   ],
   "source": [
    "training_data = pd.read_csv(\"train_subset_1.csv\")"
   ]
  },
  {
   "cell_type": "code",
   "execution_count": 4,
   "metadata": {},
   "outputs": [],
   "source": [
    "df = training_data.copy()"
   ]
  },
  {
   "cell_type": "code",
   "execution_count": 5,
   "metadata": {},
   "outputs": [
    {
     "data": {
      "text/plain": [
       "['Census_IsWIMBootEnabled',\n",
       " 'Census_InternalBatteryType',\n",
       " 'Census_ProcessorClass',\n",
       " 'Census_ThresholdOptIn',\n",
       " 'PuaMode',\n",
       " 'Census_IsFlightingInternal',\n",
       " 'DefaultBrowsersIdentifier']"
      ]
     },
     "execution_count": 5,
     "metadata": {},
     "output_type": "execute_result"
    }
   ],
   "source": [
    "df.dropna(axis='columns', thresh=len(df)/2, inplace=True) #76 col\n",
    "list(set(training_data.columns) - set(df.columns))"
   ]
  },
  {
   "cell_type": "markdown",
   "id": "852c8243-3d13-4201-b3ac-ee92fd4d7c1e",
   "metadata": {},
   "source": [
    "# Data Visualization"
   ]
  },
  {
   "cell_type": "code",
   "execution_count": 6,
   "id": "3cbda3ad-0739-4185-9846-8888da03ef2d",
   "metadata": {},
   "outputs": [
    {
     "data": {
      "text/html": [
       "<div>\n",
       "<style scoped>\n",
       "    .dataframe tbody tr th:only-of-type {\n",
       "        vertical-align: middle;\n",
       "    }\n",
       "\n",
       "    .dataframe tbody tr th {\n",
       "        vertical-align: top;\n",
       "    }\n",
       "\n",
       "    .dataframe thead th {\n",
       "        text-align: right;\n",
       "    }\n",
       "</style>\n",
       "<table border=\"1\" class=\"dataframe\">\n",
       "  <thead>\n",
       "    <tr style=\"text-align: right;\">\n",
       "      <th></th>\n",
       "      <th>MachineIdentifier</th>\n",
       "      <th>ProductName</th>\n",
       "      <th>EngineVersion</th>\n",
       "      <th>AppVersion</th>\n",
       "      <th>AvSigVersion</th>\n",
       "      <th>IsBeta</th>\n",
       "      <th>RtpStateBitfield</th>\n",
       "      <th>IsSxsPassiveMode</th>\n",
       "      <th>AVProductStatesIdentifier</th>\n",
       "      <th>AVProductsInstalled</th>\n",
       "      <th>...</th>\n",
       "      <th>Census_FirmwareManufacturerIdentifier</th>\n",
       "      <th>Census_FirmwareVersionIdentifier</th>\n",
       "      <th>Census_IsSecureBootEnabled</th>\n",
       "      <th>Census_IsVirtualDevice</th>\n",
       "      <th>Census_IsTouchEnabled</th>\n",
       "      <th>Census_IsPenCapable</th>\n",
       "      <th>Census_IsAlwaysOnAlwaysConnectedCapable</th>\n",
       "      <th>Wdft_IsGamer</th>\n",
       "      <th>Wdft_RegionIdentifier</th>\n",
       "      <th>HasDetections</th>\n",
       "    </tr>\n",
       "  </thead>\n",
       "  <tbody>\n",
       "    <tr>\n",
       "      <th>0</th>\n",
       "      <td>fa05d0d4958696c02c3bee5fd42456a0</td>\n",
       "      <td>win8defender</td>\n",
       "      <td>1.1.15100.1</td>\n",
       "      <td>4.18.1806.18062</td>\n",
       "      <td>1.273.478.0</td>\n",
       "      <td>0.0</td>\n",
       "      <td>7.0</td>\n",
       "      <td>0.0</td>\n",
       "      <td>40555.0</td>\n",
       "      <td>2.0</td>\n",
       "      <td>...</td>\n",
       "      <td>628.0</td>\n",
       "      <td>23576.0</td>\n",
       "      <td>1.0</td>\n",
       "      <td>0.0</td>\n",
       "      <td>0.0</td>\n",
       "      <td>0.0</td>\n",
       "      <td>0.0</td>\n",
       "      <td>1.0</td>\n",
       "      <td>7.0</td>\n",
       "      <td>0.0</td>\n",
       "    </tr>\n",
       "    <tr>\n",
       "      <th>1</th>\n",
       "      <td>3e398f98ebea5e948f31d7da55775b60</td>\n",
       "      <td>win8defender</td>\n",
       "      <td>1.1.15200.1</td>\n",
       "      <td>4.18.1807.18075</td>\n",
       "      <td>1.275.1047.0</td>\n",
       "      <td>0.0</td>\n",
       "      <td>7.0</td>\n",
       "      <td>0.0</td>\n",
       "      <td>53300.0</td>\n",
       "      <td>2.0</td>\n",
       "      <td>...</td>\n",
       "      <td>628.0</td>\n",
       "      <td>4112.0</td>\n",
       "      <td>1.0</td>\n",
       "      <td>0.0</td>\n",
       "      <td>0.0</td>\n",
       "      <td>0.0</td>\n",
       "      <td>0.0</td>\n",
       "      <td>0.0</td>\n",
       "      <td>7.0</td>\n",
       "      <td>0.0</td>\n",
       "    </tr>\n",
       "    <tr>\n",
       "      <th>2</th>\n",
       "      <td>8690617bef55764386f50dad9f1f79f2</td>\n",
       "      <td>win8defender</td>\n",
       "      <td>1.1.15200.1</td>\n",
       "      <td>4.18.1807.18075</td>\n",
       "      <td>1.275.151.0</td>\n",
       "      <td>0.0</td>\n",
       "      <td>7.0</td>\n",
       "      <td>0.0</td>\n",
       "      <td>6630.0</td>\n",
       "      <td>3.0</td>\n",
       "      <td>...</td>\n",
       "      <td>628.0</td>\n",
       "      <td>8941.0</td>\n",
       "      <td>1.0</td>\n",
       "      <td>0.0</td>\n",
       "      <td>0.0</td>\n",
       "      <td>0.0</td>\n",
       "      <td>0.0</td>\n",
       "      <td>1.0</td>\n",
       "      <td>15.0</td>\n",
       "      <td>0.0</td>\n",
       "    </tr>\n",
       "    <tr>\n",
       "      <th>3</th>\n",
       "      <td>10b8ec8a2d441eac9ca9ba02f382f346</td>\n",
       "      <td>win8defender</td>\n",
       "      <td>1.1.15200.1</td>\n",
       "      <td>4.18.1807.18075</td>\n",
       "      <td>1.275.1067.0</td>\n",
       "      <td>0.0</td>\n",
       "      <td>7.0</td>\n",
       "      <td>0.0</td>\n",
       "      <td>53447.0</td>\n",
       "      <td>1.0</td>\n",
       "      <td>...</td>\n",
       "      <td>142.0</td>\n",
       "      <td>11079.0</td>\n",
       "      <td>0.0</td>\n",
       "      <td>0.0</td>\n",
       "      <td>0.0</td>\n",
       "      <td>0.0</td>\n",
       "      <td>0.0</td>\n",
       "      <td>0.0</td>\n",
       "      <td>7.0</td>\n",
       "      <td>1.0</td>\n",
       "    </tr>\n",
       "    <tr>\n",
       "      <th>4</th>\n",
       "      <td>6f7dcbbf8bcb33e7a3b87f50a42f6619</td>\n",
       "      <td>win8defender</td>\n",
       "      <td>1.1.15200.1</td>\n",
       "      <td>4.18.1806.18062</td>\n",
       "      <td>1.275.1120.0</td>\n",
       "      <td>0.0</td>\n",
       "      <td>7.0</td>\n",
       "      <td>0.0</td>\n",
       "      <td>53447.0</td>\n",
       "      <td>1.0</td>\n",
       "      <td>...</td>\n",
       "      <td>142.0</td>\n",
       "      <td>9074.0</td>\n",
       "      <td>0.0</td>\n",
       "      <td>0.0</td>\n",
       "      <td>1.0</td>\n",
       "      <td>0.0</td>\n",
       "      <td>1.0</td>\n",
       "      <td>0.0</td>\n",
       "      <td>3.0</td>\n",
       "      <td>0.0</td>\n",
       "    </tr>\n",
       "  </tbody>\n",
       "</table>\n",
       "<p>5 rows × 76 columns</p>\n",
       "</div>"
      ],
      "text/plain": [
       "                  MachineIdentifier   ProductName EngineVersion  \\\n",
       "0  fa05d0d4958696c02c3bee5fd42456a0  win8defender   1.1.15100.1   \n",
       "1  3e398f98ebea5e948f31d7da55775b60  win8defender   1.1.15200.1   \n",
       "2  8690617bef55764386f50dad9f1f79f2  win8defender   1.1.15200.1   \n",
       "3  10b8ec8a2d441eac9ca9ba02f382f346  win8defender   1.1.15200.1   \n",
       "4  6f7dcbbf8bcb33e7a3b87f50a42f6619  win8defender   1.1.15200.1   \n",
       "\n",
       "        AppVersion  AvSigVersion  IsBeta  RtpStateBitfield  IsSxsPassiveMode  \\\n",
       "0  4.18.1806.18062   1.273.478.0     0.0               7.0               0.0   \n",
       "1  4.18.1807.18075  1.275.1047.0     0.0               7.0               0.0   \n",
       "2  4.18.1807.18075   1.275.151.0     0.0               7.0               0.0   \n",
       "3  4.18.1807.18075  1.275.1067.0     0.0               7.0               0.0   \n",
       "4  4.18.1806.18062  1.275.1120.0     0.0               7.0               0.0   \n",
       "\n",
       "   AVProductStatesIdentifier  AVProductsInstalled  ...  \\\n",
       "0                    40555.0                  2.0  ...   \n",
       "1                    53300.0                  2.0  ...   \n",
       "2                     6630.0                  3.0  ...   \n",
       "3                    53447.0                  1.0  ...   \n",
       "4                    53447.0                  1.0  ...   \n",
       "\n",
       "   Census_FirmwareManufacturerIdentifier  Census_FirmwareVersionIdentifier  \\\n",
       "0                                  628.0                           23576.0   \n",
       "1                                  628.0                            4112.0   \n",
       "2                                  628.0                            8941.0   \n",
       "3                                  142.0                           11079.0   \n",
       "4                                  142.0                            9074.0   \n",
       "\n",
       "   Census_IsSecureBootEnabled  Census_IsVirtualDevice  Census_IsTouchEnabled  \\\n",
       "0                         1.0                     0.0                    0.0   \n",
       "1                         1.0                     0.0                    0.0   \n",
       "2                         1.0                     0.0                    0.0   \n",
       "3                         0.0                     0.0                    0.0   \n",
       "4                         0.0                     0.0                    1.0   \n",
       "\n",
       "   Census_IsPenCapable  Census_IsAlwaysOnAlwaysConnectedCapable Wdft_IsGamer  \\\n",
       "0                  0.0                                      0.0          1.0   \n",
       "1                  0.0                                      0.0          0.0   \n",
       "2                  0.0                                      0.0          1.0   \n",
       "3                  0.0                                      0.0          0.0   \n",
       "4                  0.0                                      1.0          0.0   \n",
       "\n",
       "  Wdft_RegionIdentifier HasDetections  \n",
       "0                   7.0           0.0  \n",
       "1                   7.0           0.0  \n",
       "2                  15.0           0.0  \n",
       "3                   7.0           1.0  \n",
       "4                   3.0           0.0  \n",
       "\n",
       "[5 rows x 76 columns]"
      ]
     },
     "execution_count": 6,
     "metadata": {},
     "output_type": "execute_result"
    }
   ],
   "source": [
    "df.head() # 83 columns"
   ]
  },
  {
   "cell_type": "code",
   "execution_count": 7,
   "metadata": {},
   "outputs": [
    {
     "data": {
      "text/plain": [
       "0.06008698209170875"
      ]
     },
     "execution_count": 7,
     "metadata": {},
     "output_type": "execute_result"
    }
   ],
   "source": [
    "df['SMode'].isnull().mean()"
   ]
  },
  {
   "cell_type": "code",
   "execution_count": 26,
   "id": "1914ea48-8105-4fbf-916a-63c1afc79796",
   "metadata": {},
   "outputs": [
    {
     "name": "stdout",
     "output_type": "stream",
     "text": [
      "47\n",
      "17134.0    0.438335\n",
      "16299.0    0.281159\n",
      "15063.0    0.087768\n",
      "14393.0    0.081437\n",
      "10586.0    0.046372\n",
      "10240.0    0.030235\n",
      "9600.0     0.021947\n",
      "7601.0     0.010328\n",
      "17692.0    0.000352\n",
      "17738.0    0.000316\n",
      "17744.0    0.000214\n",
      "17758.0    0.000151\n",
      "17746.0    0.000145\n",
      "17754.0    0.000145\n",
      "17735.0    0.000136\n",
      "17713.0    0.000109\n",
      "17741.0    0.000109\n",
      "17755.0    0.000096\n",
      "17751.0    0.000094\n",
      "17763.0    0.000076\n",
      "17686.0    0.000060\n",
      "17760.0    0.000053\n",
      "17677.0    0.000049\n",
      "7600.0     0.000044\n",
      "17733.0    0.000044\n",
      "17672.0    0.000038\n",
      "17682.0    0.000034\n",
      "18234.0    0.000027\n",
      "17661.0    0.000025\n",
      "17666.0    0.000024\n",
      "18237.0    0.000013\n",
      "18242.0    0.000009\n",
      "17730.0    0.000009\n",
      "17747.0    0.000007\n",
      "17639.0    0.000005\n",
      "17650.0    0.000005\n",
      "18219.0    0.000004\n",
      "18204.0    0.000004\n",
      "17655.0    0.000004\n",
      "17627.0    0.000004\n",
      "17634.0    0.000004\n",
      "17704.0    0.000002\n",
      "17133.0    0.000002\n",
      "17728.0    0.000002\n",
      "18224.0    0.000002\n",
      "17757.0    0.000002\n",
      "17723.0    0.000002\n",
      "Name: OsBuild, dtype: float64\n"
     ]
    }
   ],
   "source": [
    "col_name =  'OsBuild'\n",
    "categories = training_data[col_name].value_counts(normalize=True, sort=True)\n",
    "print(len(categories))\n",
    "print(categories)\n",
    "\n",
    "# for i in range(len(categories)):\n",
    "#     print(training_data[training_data[col_name]==categories.keys()[i]]['HasDetections'].value_counts())\n",
    "#training_data[[\"Census_DeviceFamily\",'Census_MDC2FormFactor', 'Census_ChassisTypeName']].head(35)"
   ]
  },
  {
   "cell_type": "code",
   "execution_count": 10,
   "metadata": {},
   "outputs": [
    {
     "ename": "AttributeError",
     "evalue": "'float' object has no attribute 'split'",
     "output_type": "error",
     "traceback": [
      "\u001b[0;31m---------------------------------------------------------------------------\u001b[0m",
      "\u001b[0;31mAttributeError\u001b[0m                            Traceback (most recent call last)",
      "\u001b[1;32m/mnt/c/Users/nuobe/Desktop/MITclass_Edge/Project/DataProcessing.ipynb Cell 10\u001b[0m line \u001b[0;36m1\n\u001b[1;32m      <a href='vscode-notebook-cell://wsl%2Bubuntu/mnt/c/Users/nuobe/Desktop/MITclass_Edge/Project/DataProcessing.ipynb#X12sdnNjb2RlLXJlbW90ZQ%3D%3D?line=7'>8</a>\u001b[0m     parts \u001b[39m=\u001b[39m value\u001b[39m.\u001b[39msplit(\u001b[39m'\u001b[39m\u001b[39m.\u001b[39m\u001b[39m'\u001b[39m)\n\u001b[1;32m      <a href='vscode-notebook-cell://wsl%2Bubuntu/mnt/c/Users/nuobe/Desktop/MITclass_Edge/Project/DataProcessing.ipynb#X12sdnNjb2RlLXJlbW90ZQ%3D%3D?line=8'>9</a>\u001b[0m     \u001b[39mreturn\u001b[39;00m parts[\u001b[39m2\u001b[39m][:\u001b[39m-\u001b[39m\u001b[39m3\u001b[39m]\n\u001b[0;32m---> <a href='vscode-notebook-cell://wsl%2Bubuntu/mnt/c/Users/nuobe/Desktop/MITclass_Edge/Project/DataProcessing.ipynb#X12sdnNjb2RlLXJlbW90ZQ%3D%3D?line=9'>10</a>\u001b[0m df[\u001b[39m'\u001b[39m\u001b[39mEngineVersion\u001b[39m\u001b[39m'\u001b[39m] \u001b[39m=\u001b[39m training_data[\u001b[39m'\u001b[39;49m\u001b[39mEngineVersion\u001b[39;49m\u001b[39m'\u001b[39;49m]\u001b[39m.\u001b[39;49mapply(EngineVersion_mapping)\n\u001b[1;32m     <a href='vscode-notebook-cell://wsl%2Bubuntu/mnt/c/Users/nuobe/Desktop/MITclass_Edge/Project/DataProcessing.ipynb#X12sdnNjb2RlLXJlbW90ZQ%3D%3D?line=11'>12</a>\u001b[0m \u001b[39m# def AppVersion_mapping(value):\u001b[39;00m\n\u001b[1;32m     <a href='vscode-notebook-cell://wsl%2Bubuntu/mnt/c/Users/nuobe/Desktop/MITclass_Edge/Project/DataProcessing.ipynb#X12sdnNjb2RlLXJlbW90ZQ%3D%3D?line=12'>13</a>\u001b[0m \u001b[39m#     parts = value.split('.')\u001b[39;00m\n\u001b[1;32m     <a href='vscode-notebook-cell://wsl%2Bubuntu/mnt/c/Users/nuobe/Desktop/MITclass_Edge/Project/DataProcessing.ipynb#X12sdnNjb2RlLXJlbW90ZQ%3D%3D?line=13'>14</a>\u001b[0m \u001b[39m#     return parts[1]\u001b[39;00m\n\u001b[0;32m   (...)\u001b[0m\n\u001b[1;32m     <a href='vscode-notebook-cell://wsl%2Bubuntu/mnt/c/Users/nuobe/Desktop/MITclass_Edge/Project/DataProcessing.ipynb#X12sdnNjb2RlLXJlbW90ZQ%3D%3D?line=53'>54</a>\u001b[0m \u001b[39m#                        'WIF':'Other', 'WIS':'Other', 'RP':'Other','Disabled':'Other', 'Canary':'Other', 'OSG':'Other'}\u001b[39;00m\n\u001b[1;32m     <a href='vscode-notebook-cell://wsl%2Bubuntu/mnt/c/Users/nuobe/Desktop/MITclass_Edge/Project/DataProcessing.ipynb#X12sdnNjb2RlLXJlbW90ZQ%3D%3D?line=54'>55</a>\u001b[0m \u001b[39m# df['Census_FlightRing'] = training_data['Census_FlightRing'].map(Census_FlightRing_mapping)\u001b[39;00m\n",
      "File \u001b[0;32m~/.local/lib/python3.10/site-packages/pandas/core/series.py:4771\u001b[0m, in \u001b[0;36mSeries.apply\u001b[0;34m(self, func, convert_dtype, args, **kwargs)\u001b[0m\n\u001b[1;32m   4661\u001b[0m \u001b[39mdef\u001b[39;00m \u001b[39mapply\u001b[39m(\n\u001b[1;32m   4662\u001b[0m     \u001b[39mself\u001b[39m,\n\u001b[1;32m   4663\u001b[0m     func: AggFuncType,\n\u001b[0;32m   (...)\u001b[0m\n\u001b[1;32m   4666\u001b[0m     \u001b[39m*\u001b[39m\u001b[39m*\u001b[39mkwargs,\n\u001b[1;32m   4667\u001b[0m ) \u001b[39m-\u001b[39m\u001b[39m>\u001b[39m DataFrame \u001b[39m|\u001b[39m Series:\n\u001b[1;32m   4668\u001b[0m \u001b[39m    \u001b[39m\u001b[39m\"\"\"\u001b[39;00m\n\u001b[1;32m   4669\u001b[0m \u001b[39m    Invoke function on values of Series.\u001b[39;00m\n\u001b[1;32m   4670\u001b[0m \n\u001b[0;32m   (...)\u001b[0m\n\u001b[1;32m   4769\u001b[0m \u001b[39m    dtype: float64\u001b[39;00m\n\u001b[1;32m   4770\u001b[0m \u001b[39m    \"\"\"\u001b[39;00m\n\u001b[0;32m-> 4771\u001b[0m     \u001b[39mreturn\u001b[39;00m SeriesApply(\u001b[39mself\u001b[39;49m, func, convert_dtype, args, kwargs)\u001b[39m.\u001b[39;49mapply()\n",
      "File \u001b[0;32m~/.local/lib/python3.10/site-packages/pandas/core/apply.py:1123\u001b[0m, in \u001b[0;36mSeriesApply.apply\u001b[0;34m(self)\u001b[0m\n\u001b[1;32m   1120\u001b[0m     \u001b[39mreturn\u001b[39;00m \u001b[39mself\u001b[39m\u001b[39m.\u001b[39mapply_str()\n\u001b[1;32m   1122\u001b[0m \u001b[39m# self.f is Callable\u001b[39;00m\n\u001b[0;32m-> 1123\u001b[0m \u001b[39mreturn\u001b[39;00m \u001b[39mself\u001b[39;49m\u001b[39m.\u001b[39;49mapply_standard()\n",
      "File \u001b[0;32m~/.local/lib/python3.10/site-packages/pandas/core/apply.py:1174\u001b[0m, in \u001b[0;36mSeriesApply.apply_standard\u001b[0;34m(self)\u001b[0m\n\u001b[1;32m   1172\u001b[0m     \u001b[39melse\u001b[39;00m:\n\u001b[1;32m   1173\u001b[0m         values \u001b[39m=\u001b[39m obj\u001b[39m.\u001b[39mastype(\u001b[39mobject\u001b[39m)\u001b[39m.\u001b[39m_values\n\u001b[0;32m-> 1174\u001b[0m         mapped \u001b[39m=\u001b[39m lib\u001b[39m.\u001b[39;49mmap_infer(\n\u001b[1;32m   1175\u001b[0m             values,\n\u001b[1;32m   1176\u001b[0m             f,\n\u001b[1;32m   1177\u001b[0m             convert\u001b[39m=\u001b[39;49m\u001b[39mself\u001b[39;49m\u001b[39m.\u001b[39;49mconvert_dtype,\n\u001b[1;32m   1178\u001b[0m         )\n\u001b[1;32m   1180\u001b[0m \u001b[39mif\u001b[39;00m \u001b[39mlen\u001b[39m(mapped) \u001b[39mand\u001b[39;00m \u001b[39misinstance\u001b[39m(mapped[\u001b[39m0\u001b[39m], ABCSeries):\n\u001b[1;32m   1181\u001b[0m     \u001b[39m# GH#43986 Need to do list(mapped) in order to get treated as nested\u001b[39;00m\n\u001b[1;32m   1182\u001b[0m     \u001b[39m#  See also GH#25959 regarding EA support\u001b[39;00m\n\u001b[1;32m   1183\u001b[0m     \u001b[39mreturn\u001b[39;00m obj\u001b[39m.\u001b[39m_constructor_expanddim(\u001b[39mlist\u001b[39m(mapped), index\u001b[39m=\u001b[39mobj\u001b[39m.\u001b[39mindex)\n",
      "File \u001b[0;32m~/.local/lib/python3.10/site-packages/pandas/_libs/lib.pyx:2924\u001b[0m, in \u001b[0;36mpandas._libs.lib.map_infer\u001b[0;34m()\u001b[0m\n",
      "\u001b[1;32m/mnt/c/Users/nuobe/Desktop/MITclass_Edge/Project/DataProcessing.ipynb Cell 10\u001b[0m line \u001b[0;36m8\n\u001b[1;32m      <a href='vscode-notebook-cell://wsl%2Bubuntu/mnt/c/Users/nuobe/Desktop/MITclass_Edge/Project/DataProcessing.ipynb#X12sdnNjb2RlLXJlbW90ZQ%3D%3D?line=6'>7</a>\u001b[0m \u001b[39mdef\u001b[39;00m \u001b[39mEngineVersion_mapping\u001b[39m(value):\n\u001b[0;32m----> <a href='vscode-notebook-cell://wsl%2Bubuntu/mnt/c/Users/nuobe/Desktop/MITclass_Edge/Project/DataProcessing.ipynb#X12sdnNjb2RlLXJlbW90ZQ%3D%3D?line=7'>8</a>\u001b[0m     parts \u001b[39m=\u001b[39m value\u001b[39m.\u001b[39;49msplit(\u001b[39m'\u001b[39m\u001b[39m.\u001b[39m\u001b[39m'\u001b[39m)\n\u001b[1;32m      <a href='vscode-notebook-cell://wsl%2Bubuntu/mnt/c/Users/nuobe/Desktop/MITclass_Edge/Project/DataProcessing.ipynb#X12sdnNjb2RlLXJlbW90ZQ%3D%3D?line=8'>9</a>\u001b[0m     \u001b[39mreturn\u001b[39;00m parts[\u001b[39m2\u001b[39m][:\u001b[39m-\u001b[39m\u001b[39m3\u001b[39m]\n",
      "\u001b[0;31mAttributeError\u001b[0m: 'float' object has no attribute 'split'"
     ]
    }
   ],
   "source": [
    "# Column Processing\n",
    "threshold = 0.01\n",
    "\n",
    "# ProductName_mapping = {'win8defender': 'win8defender', 'mse': 'mse', 'mseprerelease':'other', 'scep':'other'}\n",
    "# df['ProductName'] = training_data['ProductName'].map(ProductName_mapping)\n",
    "\n",
    "def EngineVersion_mapping(value):\n",
    "    parts = value.split('.')\n",
    "    return parts[2][:-3]\n",
    "df['EngineVersion'] = training_data['EngineVersion'].apply(EngineVersion_mapping)\n",
    "\n",
    "# def AppVersion_mapping(value):\n",
    "#     parts = value.split('.')\n",
    "#     return parts[1]\n",
    "# df['AppVersion'] = training_data['AppVersion'].apply(AppVersion_mapping)\n",
    "\n",
    "# def AvSigVersion_mapping(value):\n",
    "#     parts = value.split('.')\n",
    "#     return parts[1]\n",
    "# df['AvSigVersion'] = training_data['AvSigVersion'].apply(AvSigVersion_mapping)\n",
    "\n",
    "# low_AVProductStatesIdentifier_cats = training_data['AVProductStatesIdentifier'].value_counts()[training_data['AVProductStatesIdentifier'].value_counts(normalize=True) < threshold].index\n",
    "# df.loc[df['AVProductStatesIdentifier'].isin(low_AVProductStatesIdentifier_cats), 'AVProductStatesIdentifier'] = -1\n",
    "\n",
    "# low_CountryIdentifier_cats = training_data['CountryIdentifier'].value_counts()[training_data['CountryIdentifier'].value_counts(normalize=True) < threshold].index\n",
    "# df.loc[df['CountryIdentifier'].isin(low_CountryIdentifier_cats), 'CountryIdentifier'] = -1\n",
    "\n",
    "# low_CountryIdentifier_cats = training_data['GeoNameIdentifier'].value_counts()[training_data['GeoNameIdentifier'].value_counts(normalize=True) < threshold].index\n",
    "# df.loc[df['GeoNameIdentifier'].isin(low_CountryIdentifier_cats), 'GeoNameIdentifier'] = -1\n",
    "\n",
    "# low_OrganizationIdentifier_cats = training_data['OrganizationIdentifier'].value_counts()[training_data['OrganizationIdentifier'].value_counts(normalize=True) < threshold].index\n",
    "# df.loc[df['OrganizationIdentifier'].isin(low_OrganizationIdentifier_cats), 'OrganizationIdentifier'] = -1\n",
    "\n",
    "# low_IeVerIdentifier_cats = training_data['IeVerIdentifier'].value_counts()[training_data['IeVerIdentifier'].value_counts(normalize=True) < threshold].index\n",
    "# df.loc[df['IeVerIdentifier'].isin(low_IeVerIdentifier_cats), 'IeVerIdentifier'] = -1\n",
    "\n",
    "# SmartScreen_mapping = {'RequireAdmin': 'RequireAdmin', 'ExistsNotSet': 'ExistsNotSet', 'Off':'Off', 'Warn':'Warn',\n",
    "#                        'Prompt': 'Other', 'Block': 'Off', 'off':'Off', 'On':'On', '&#x02;': 'Other',\n",
    "#                        '&#x01;': 'Other', 'on': 'On', 'Enabled':'On', '0':'Off'}\n",
    "# df['SmartScreen'] = training_data['SmartScreen'].map(SmartScreen_mapping)\n",
    "\n",
    "# Census_MDC2FormFactor_mapping = {'Notebook': 'Laptop', 'Desktop': 'PC', 'Convertible':'Laptop', \n",
    "#                        'Detachable':'Laptop', 'AllInOne': 'Laptop', 'PCOther': 'PC', \n",
    "#                        'LargeTablet':'Tablet', 'SmallTablet':'Tablet', 'SmallServer;': 'Server',\n",
    "#                        'MediumServer': 'Server', 'LargeServer': 'Server', 'ServerOther':'Server'}\n",
    "# df['Census_MDC2FormFactor'] = training_data['Census_MDC2FormFactor'].map(Census_MDC2FormFactor_mapping)\n",
    "\n",
    "# def OsVer_mapping(value):\n",
    "#     parts = value.split('.')\n",
    "#     return parts[0]\n",
    "# df['OsVer'] = training_data['OsVer'].apply(OsVer_mapping)\n",
    "\n",
    "# Census_FlightRing_mapping = {'Retail': 'Retail', 'NOT_SET': 'Other', 'Unknown':'Other', \n",
    "#                        'WIF':'Other', 'WIS':'Other', 'RP':'Other','Disabled':'Other', 'Canary':'Other', 'OSG':'Other'}\n",
    "# df['Census_FlightRing'] = training_data['Census_FlightRing'].map(Census_FlightRing_mapping)\n"
   ]
  },
  {
   "cell_type": "code",
   "execution_count": 55,
   "metadata": {},
   "outputs": [
    {
     "name": "stdout",
     "output_type": "stream",
     "text": [
      "4\n"
     ]
    },
    {
     "data": {
      "text/plain": [
       "Laptop    414541\n",
       "PC        129515\n",
       "Tablet      6044\n",
       "Server       271\n",
       "Name: Census_MDC2FormFactor, dtype: int64"
      ]
     },
     "execution_count": 55,
     "metadata": {},
     "output_type": "execute_result"
    }
   ],
   "source": [
    "print(len(df['Census_MDC2FormFactor'].value_counts()))\n",
    "df['Census_MDC2FormFactor'].value_counts()"
   ]
  },
  {
   "cell_type": "code",
   "execution_count": 3,
   "id": "8044ceb7-d732-431b-b036-a425b23e5d6b",
   "metadata": {},
   "outputs": [
    {
     "name": "stdout",
     "output_type": "stream",
     "text": [
      "MachineIdentifier                                     object\n",
      "ProductName                                           object\n",
      "EngineVersion                                         object\n",
      "AppVersion                                            object\n",
      "AvSigVersion                                          object\n",
      "IsBeta                                                 int64\n",
      "RtpStateBitfield                                     float64\n",
      "IsSxsPassiveMode                                       int64\n",
      "DefaultBrowsersIdentifier                            float64\n",
      "AVProductStatesIdentifier                            float64\n",
      "AVProductsInstalled                                  float64\n",
      "AVProductsEnabled                                    float64\n",
      "HasTpm                                                 int64\n",
      "CountryIdentifier                                      int64\n",
      "CityIdentifier                                       float64\n",
      "OrganizationIdentifier                               float64\n",
      "GeoNameIdentifier                                    float64\n",
      "LocaleEnglishNameIdentifier                            int64\n",
      "Platform                                              object\n",
      "Processor                                             object\n",
      "OsVer                                                 object\n",
      "OsBuild                                                int64\n",
      "OsSuite                                                int64\n",
      "OsPlatformSubRelease                                  object\n",
      "OsBuildLab                                            object\n",
      "SkuEdition                                            object\n",
      "IsProtected                                          float64\n",
      "AutoSampleOptIn                                      float64\n",
      "PuaMode                                               object\n",
      "SMode                                                float64\n",
      "IeVerIdentifier                                      float64\n",
      "SmartScreen                                           object\n",
      "Firewall                                             float64\n",
      "UacLuaenable                                         float64\n",
      "Census_MDC2FormFactor                                 object\n",
      "Census_DeviceFamily                                   object\n",
      "Census_OEMNameIdentifier                             float64\n",
      "Census_OEMModelIdentifier                            float64\n",
      "Census_ProcessorCoreCount                            float64\n",
      "Census_ProcessorManufacturerIdentifier               float64\n",
      "Census_ProcessorModelIdentifier                      float64\n",
      "Census_ProcessorClass                                 object\n",
      "Census_PrimaryDiskTotalCapacity                      float64\n",
      "Census_PrimaryDiskTypeName                            object\n",
      "Census_SystemVolumeTotalCapacity                     float64\n",
      "Census_HasOpticalDiskDrive                           float64\n",
      "Census_TotalPhysicalRAM                              float64\n",
      "Census_ChassisTypeName                                object\n",
      "Census_InternalPrimaryDiagonalDisplaySizeInInches    float64\n",
      "Census_InternalPrimaryDisplayResolutionHorizontal    float64\n",
      "Census_InternalPrimaryDisplayResolutionVertical      float64\n",
      "Census_PowerPlatformRoleName                          object\n",
      "Census_InternalBatteryType                            object\n",
      "Census_InternalBatteryNumberOfCharges                float64\n",
      "Census_OSVersion                                      object\n",
      "Census_OSArchitecture                                 object\n",
      "Census_OSBranch                                       object\n",
      "Census_OSBuildNumber                                 float64\n",
      "Census_OSBuildRevision                               float64\n",
      "Census_OSEdition                                      object\n",
      "Census_OSSkuName                                      object\n",
      "Census_OSInstallTypeName                              object\n",
      "Census_OSInstallLanguageIdentifier                   float64\n",
      "Census_OSUILocaleIdentifier                          float64\n",
      "Census_OSWUAutoUpdateOptionsName                      object\n",
      "Census_IsPortableOperatingSystem                     float64\n",
      "Census_GenuineStateName                               object\n",
      "Census_ActivationChannel                              object\n",
      "Census_IsFlightingInternal                           float64\n",
      "Census_IsFlightsDisabled                             float64\n",
      "Census_FlightRing                                     object\n",
      "Census_ThresholdOptIn                                float64\n",
      "Census_FirmwareManufacturerIdentifier                float64\n",
      "Census_FirmwareVersionIdentifier                     float64\n",
      "Census_IsSecureBootEnabled                           float64\n",
      "Census_IsWIMBootEnabled                              float64\n",
      "Census_IsVirtualDevice                               float64\n",
      "Census_IsTouchEnabled                                float64\n",
      "Census_IsPenCapable                                  float64\n",
      "Census_IsAlwaysOnAlwaysConnectedCapable              float64\n",
      "Wdft_IsGamer                                         float64\n",
      "Wdft_RegionIdentifier                                float64\n",
      "HasDetections                                        float64\n",
      "dtype: object\n"
     ]
    }
   ],
   "source": [
    "pd.set_option('display.max_rows', None)\n",
    "pd.set_option('display.max_columns', None)\n",
    "print(training_data.dtypes)"
   ]
  },
  {
   "cell_type": "code",
   "execution_count": 10,
   "id": "46ab49be-f7be-4c3e-b91a-d81eb889524d",
   "metadata": {},
   "outputs": [
    {
     "data": {
      "text/plain": [
       "46"
      ]
     },
     "execution_count": 10,
     "metadata": {},
     "output_type": "execute_result"
    }
   ],
   "source": [
    "category_col = [\n",
    "    \"ProductName\",\n",
    "    \"EngineVersion\",\n",
    "    \"AppVersion\",\n",
    "    \"AvSigVersion\",\n",
    "    \"AVProductStatesIdentifier\",\n",
    "    \"AVProductsInstalled\",\n",
    "    \"AVProductsEnabled\",\n",
    "    \"CountryIdentifier\",\n",
    "    \"CityIdentifier\",\n",
    "    \"GeoNameIdentifier\",\n",
    "    \"LocaleEnglishNameIdentifier\",\n",
    "    \"Platform\",\n",
    "    \"Processor\",\n",
    "    \"OsVer\",\n",
    "    \"OsBuild\",\n",
    "    \"OsSuite\",\n",
    "    \"OsPlatformSubRelease\",\n",
    "    \"OsBuildLab\",\n",
    "    \"SkuEdition\",\n",
    "    \"IeVerIdentifier\",\n",
    "    \"UacLuaenable\",\n",
    "    \"Census_MDC2FormFactor\",\n",
    "    \"Census_DeviceFamily\",\n",
    "    \"Census_OEMNameIdentifier\",\n",
    "    \"Census_OEMModelIdentifier\",\n",
    "    \"Census_ProcessorManufacturerIdentifier\",\n",
    "    \"Census_ProcessorModelIdentifier\",\n",
    "    \"Census_PrimaryDiskTypeName\",\n",
    "    \"Census_ChassisTypeName\",\n",
    "    \"Census_PowerPlatformRoleName\",\n",
    "    \"Census_OSVersion\",\n",
    "    \"Census_OSArchitecture\",\n",
    "    \"Census_OSBranch\",\n",
    "    \"Census_OSBuildNumber\",\n",
    "    \"Census_OSBuildRevision\",\n",
    "    \"Census_OSEdition\",\n",
    "    \"Census_OSSkuName\",\n",
    "    \"Census_OSInstallTypeName\",\n",
    "    \"Census_OSUILocaleIdentifier\",\n",
    "    \"Census_OSWUAutoUpdateOptionsName\",\n",
    "    \"Census_GenuineStateName\",\n",
    "    \"Census_ActivationChannel\",\n",
    "    \"Census_FlightRing\",\n",
    "    \"Census_FirmwareManufacturerIdentifier\",\n",
    "    \"Census_FirmwareVersionIdentifier\",\n",
    "    \"Wdft_RegionIdentifier\",\n",
    "]\n",
    "len(category_col)"
   ]
  },
  {
   "cell_type": "code",
   "execution_count": 5,
   "id": "639a1581-699b-4d20-b0ab-0fac98ee2b0e",
   "metadata": {},
   "outputs": [
    {
     "name": "stdout",
     "output_type": "stream",
     "text": [
      "there are  3  unique values \n",
      "\n",
      "[nan 'on' 'audit']\n",
      "PuaMode\n",
      "on       233\n",
      "audit      1\n",
      "Name: count, dtype: int64\n"
     ]
    }
   ],
   "source": [
    "# Check the categorical column \n",
    "column = 'PuaMode'\n",
    "\n",
    "print(\"there are \", len(training_data[column].unique()), \" unique values \\n\")\n",
    "print(training_data[column].unique())\n",
    "print(training_data[column].value_counts())"
   ]
  },
  {
   "cell_type": "code",
   "execution_count": 11,
   "id": "933f5782-f010-41f0-9769-da93fe13ba70",
   "metadata": {},
   "outputs": [],
   "source": [
    "# Convert the 'Category' column to a category data type\n",
    "# EngineVersion, AppVersion , AvSigVersion \n",
    "# for col in training_data.columns:\n",
    "    # training_data[col] = training_data[col].astype('category')\n",
    "for col in category_col:\n",
    "    training_data[col] = training_data[col].astype('category')"
   ]
  },
  {
   "cell_type": "code",
   "execution_count": 7,
   "id": "dbc0c1cc-a1e7-47be-b481-82d29e2898ca",
   "metadata": {},
   "outputs": [
    {
     "data": {
      "text/plain": [
       "991276"
      ]
     },
     "execution_count": 7,
     "metadata": {},
     "output_type": "execute_result"
    }
   ],
   "source": [
    "len(training_data) #8921483*83"
   ]
  },
  {
   "cell_type": "code",
   "execution_count": 8,
   "id": "0bb2b574-a569-4103-bc7d-b60aed61edf6",
   "metadata": {},
   "outputs": [
    {
     "data": {
      "text/plain": [
       "HasDetections\n",
       "0    0.500358\n",
       "1    0.499642\n",
       "Name: proportion, dtype: float64"
      ]
     },
     "execution_count": 8,
     "metadata": {},
     "output_type": "execute_result"
    }
   ],
   "source": [
    "training_data['HasDetections'].value_counts(normalize=True)"
   ]
  },
  {
   "cell_type": "code",
   "execution_count": 12,
   "id": "813c3c9c-5749-4934-9ef4-ec5f8df487d0",
   "metadata": {},
   "outputs": [
    {
     "name": "stdout",
     "output_type": "stream",
     "text": [
      "201452 76\n"
     ]
    }
   ],
   "source": [
    "# cleaning data\n",
    "## drop columns with more than 50% missing value\n",
    "clean_data = training_data.dropna(axis='columns', thresh=len(training_data)/2)\n",
    "clean_data = clean_data.dropna()\n",
    "print(len(clean_data), len(clean_data.columns))\n"
   ]
  },
  {
   "cell_type": "code",
   "execution_count": 10,
   "id": "2629f366-63ff-4c6b-84db-811f144eaadd",
   "metadata": {},
   "outputs": [
    {
     "data": {
      "text/plain": [
       "HasDetections\n",
       "1    0.519029\n",
       "0    0.480971\n",
       "Name: proportion, dtype: float64"
      ]
     },
     "execution_count": 10,
     "metadata": {},
     "output_type": "execute_result"
    }
   ],
   "source": [
    "clean_data['HasDetections'].value_counts(normalize=True)"
   ]
  },
  {
   "cell_type": "code",
   "execution_count": 6,
   "id": "a2f31f44-2b53-4e8e-955d-7952975847f4",
   "metadata": {},
   "outputs": [],
   "source": [
    "nan_counts = training_data.isna().sum()\n",
    "\n",
    "# Define a threshold (half of the number of rows)\n",
    "threshold = len(training_data)/2\n",
    "\n",
    "# Drop columns with more than half of NaN values\n",
    "dropped_columns = nan_counts[nan_counts > threshold].index"
   ]
  },
  {
   "cell_type": "code",
   "execution_count": 23,
   "id": "da977ebf-b4d2-4042-a262-1e76d3990658",
   "metadata": {},
   "outputs": [
    {
     "data": {
      "text/plain": [
       "Index(['DefaultBrowsersIdentifier', 'PuaMode', 'Census_ProcessorClass',\n",
       "       'Census_InternalBatteryType', 'Census_IsFlightingInternal',\n",
       "       'Census_ThresholdOptIn', 'Census_IsWIMBootEnabled'],\n",
       "      dtype='object')"
      ]
     },
     "execution_count": 23,
     "metadata": {},
     "output_type": "execute_result"
    }
   ],
   "source": [
    "dropped_columns"
   ]
  },
  {
   "cell_type": "code",
   "execution_count": 7,
   "id": "eb230ab4-73df-4ba0-84a0-27f8b591acd0",
   "metadata": {},
   "outputs": [
    {
     "data": {
      "text/plain": [
       "DefaultBrowsersIdentifier     943156\n",
       "PuaMode                       991042\n",
       "Census_ProcessorClass         987355\n",
       "Census_InternalBatteryType    704715\n",
       "Census_IsFlightingInternal    823468\n",
       "Census_ThresholdOptIn         630131\n",
       "Census_IsWIMBootEnabled       629311\n",
       "dtype: int64"
      ]
     },
     "execution_count": 7,
     "metadata": {},
     "output_type": "execute_result"
    }
   ],
   "source": [
    "nan_counts = training_data[dropped_columns].isna().sum()\n",
    "nan_counts"
   ]
  },
  {
   "cell_type": "code",
   "execution_count": 8,
   "id": "7807afb0-447b-4658-ac2c-731a719f1e24",
   "metadata": {},
   "outputs": [
    {
     "data": {
      "text/plain": [
       "HasDetections\n",
       "0    495934\n",
       "1    495108\n",
       "Name: count, dtype: int64"
      ]
     },
     "execution_count": 8,
     "metadata": {},
     "output_type": "execute_result"
    }
   ],
   "source": [
    "training_data[training_data[\"PuaMode\"].isna()]['HasDetections'].value_counts()\n",
    "#training_data[training_data[\"Firewall\"]==1]['HasDetections'].value_counts()\n",
    "#training_data[training_data[\"IsProtected\"]==1]['HasDetections'].value_counts()"
   ]
  },
  {
   "cell_type": "code",
   "execution_count": 9,
   "id": "406cd921-34af-49ac-9f87-00b202affc8f",
   "metadata": {},
   "outputs": [
    {
     "data": {
      "text/plain": [
       "HasDetections\n",
       "0    5\n",
       "1    1\n",
       "Name: count, dtype: int64"
      ]
     },
     "execution_count": 9,
     "metadata": {},
     "output_type": "execute_result"
    }
   ],
   "source": [
    "#training_data[-training_data[\"PuaMode\"].isna()]['HasDetections'].value_counts()\n",
    "#training_data[training_data[\"Firewall\"]==0]['HasDetections'].value_counts()\n",
    "training_data[training_data[\"ProductName\"]=='mseprerelease']['HasDetections'].value_counts()"
   ]
  },
  {
   "cell_type": "code",
   "execution_count": 12,
   "id": "02fb76be-d848-440e-b016-500132c8a622",
   "metadata": {},
   "outputs": [
    {
     "data": {
      "text/plain": [
       "Census_TotalPhysicalRAM\n",
       "4096.0     455078\n",
       "8192.0     244271\n",
       "2048.0     121585\n",
       "16384.0     58845\n",
       "6144.0      44171\n",
       "            ...  \n",
       "3960.0          1\n",
       "12228.0         1\n",
       "3019.0          1\n",
       "4060.0          1\n",
       "12160.0         1\n",
       "Name: count, Length: 873, dtype: int64"
      ]
     },
     "execution_count": 12,
     "metadata": {},
     "output_type": "execute_result"
    }
   ],
   "source": [
    "#training_data[-training_data[\"PuaMode\"].isna()][\"PuaMode\"].unique()\n",
    "training_data['Census_TotalPhysicalRAM'].value_counts()"
   ]
  },
  {
   "cell_type": "markdown",
   "id": "2e9170d3-a276-4dac-83ca-5f7544b2b4d4",
   "metadata": {},
   "source": [
    "# model fitting"
   ]
  },
  {
   "cell_type": "code",
   "execution_count": 3,
   "metadata": {},
   "outputs": [
    {
     "name": "stdout",
     "output_type": "stream",
     "text": [
      "Defaulting to user installation because normal site-packages is not writeable\n",
      "Collecting scikit-learn\n",
      "  Downloading scikit_learn-1.3.2-cp310-cp310-manylinux_2_17_x86_64.manylinux2014_x86_64.whl (10.8 MB)\n",
      "\u001b[2K     \u001b[90m━━━━━━━━━━━━━━━━━━━━━━━━━━━━━━━━━━━━━━━━\u001b[0m \u001b[32m10.8/10.8 MB\u001b[0m \u001b[31m4.0 MB/s\u001b[0m eta \u001b[36m0:00:00\u001b[0m00:01\u001b[0m00:01\u001b[0m\n",
      "\u001b[?25hRequirement already satisfied: numpy<2.0,>=1.17.3 in /home/nuobeiz/.local/lib/python3.10/site-packages (from scikit-learn) (1.24.2)\n",
      "Collecting joblib>=1.1.1\n",
      "  Downloading joblib-1.3.2-py3-none-any.whl (302 kB)\n",
      "\u001b[2K     \u001b[90m━━━━━━━━━━━━━━━━━━━━━━━━━━━━━━━━━━━━━━━\u001b[0m \u001b[32m302.2/302.2 KB\u001b[0m \u001b[31m6.5 MB/s\u001b[0m eta \u001b[36m0:00:00\u001b[0ma \u001b[36m0:00:01\u001b[0m\n",
      "\u001b[?25hCollecting threadpoolctl>=2.0.0\n",
      "  Downloading threadpoolctl-3.2.0-py3-none-any.whl (15 kB)\n",
      "Requirement already satisfied: scipy>=1.5.0 in /home/nuobeiz/.local/lib/python3.10/site-packages (from scikit-learn) (1.10.1)\n",
      "Installing collected packages: threadpoolctl, joblib, scikit-learn\n",
      "Successfully installed joblib-1.3.2 scikit-learn-1.3.2 threadpoolctl-3.2.0\n",
      "Note: you may need to restart the kernel to use updated packages.\n"
     ]
    }
   ],
   "source": [
    "pip install scikit-learn"
   ]
  },
  {
   "cell_type": "code",
   "execution_count": 4,
   "id": "a77826ee-e939-44cb-bb33-5cef2fa9d6a1",
   "metadata": {},
   "outputs": [],
   "source": [
    "from sklearn.tree import DecisionTreeClassifier  # for classification\n",
    "from sklearn.model_selection import train_test_split\n",
    "from sklearn.metrics import accuracy_score\n",
    "from sklearn.tree import export_text\n",
    "from sklearn.linear_model import LogisticRegression\n",
    "from sklearn.preprocessing import OneHotEncoder\n",
    "from sklearn.metrics import roc_auc_score, roc_curve"
   ]
  },
  {
   "cell_type": "code",
   "execution_count": 13,
   "id": "9b9a433e-d5e8-4fee-9c43-b7b46321d0cb",
   "metadata": {},
   "outputs": [],
   "source": [
    "X = clean_data.drop(['MachineIdentifier','HasDetections'], axis=1)  # Features\n",
    "y = clean_data['HasDetections']  # Target variable"
   ]
  },
  {
   "cell_type": "code",
   "execution_count": 14,
   "id": "1453f05b-5752-4f07-805a-c64ed80dd134",
   "metadata": {},
   "outputs": [],
   "source": [
    "X_train, X_valid, y_train, y_valid = train_test_split(X, y, test_size=0.4, random_state=42)"
   ]
  },
  {
   "cell_type": "code",
   "execution_count": 12,
   "id": "466d7a53-c1b8-48ec-b5ab-e680945e816d",
   "metadata": {},
   "outputs": [
    {
     "data": {
      "text/plain": [
       "217297"
      ]
     },
     "execution_count": 12,
     "metadata": {},
     "output_type": "execute_result"
    }
   ],
   "source": [
    "len(X_train)"
   ]
  },
  {
   "cell_type": "code",
   "execution_count": 15,
   "id": "720678c7-599f-4267-a3a0-78223649aa5d",
   "metadata": {},
   "outputs": [
    {
     "data": {
      "text/html": [
       "<style>#sk-container-id-1 {color: black;}#sk-container-id-1 pre{padding: 0;}#sk-container-id-1 div.sk-toggleable {background-color: white;}#sk-container-id-1 label.sk-toggleable__label {cursor: pointer;display: block;width: 100%;margin-bottom: 0;padding: 0.3em;box-sizing: border-box;text-align: center;}#sk-container-id-1 label.sk-toggleable__label-arrow:before {content: \"▸\";float: left;margin-right: 0.25em;color: #696969;}#sk-container-id-1 label.sk-toggleable__label-arrow:hover:before {color: black;}#sk-container-id-1 div.sk-estimator:hover label.sk-toggleable__label-arrow:before {color: black;}#sk-container-id-1 div.sk-toggleable__content {max-height: 0;max-width: 0;overflow: hidden;text-align: left;background-color: #f0f8ff;}#sk-container-id-1 div.sk-toggleable__content pre {margin: 0.2em;color: black;border-radius: 0.25em;background-color: #f0f8ff;}#sk-container-id-1 input.sk-toggleable__control:checked~div.sk-toggleable__content {max-height: 200px;max-width: 100%;overflow: auto;}#sk-container-id-1 input.sk-toggleable__control:checked~label.sk-toggleable__label-arrow:before {content: \"▾\";}#sk-container-id-1 div.sk-estimator input.sk-toggleable__control:checked~label.sk-toggleable__label {background-color: #d4ebff;}#sk-container-id-1 div.sk-label input.sk-toggleable__control:checked~label.sk-toggleable__label {background-color: #d4ebff;}#sk-container-id-1 input.sk-hidden--visually {border: 0;clip: rect(1px 1px 1px 1px);clip: rect(1px, 1px, 1px, 1px);height: 1px;margin: -1px;overflow: hidden;padding: 0;position: absolute;width: 1px;}#sk-container-id-1 div.sk-estimator {font-family: monospace;background-color: #f0f8ff;border: 1px dotted black;border-radius: 0.25em;box-sizing: border-box;margin-bottom: 0.5em;}#sk-container-id-1 div.sk-estimator:hover {background-color: #d4ebff;}#sk-container-id-1 div.sk-parallel-item::after {content: \"\";width: 100%;border-bottom: 1px solid gray;flex-grow: 1;}#sk-container-id-1 div.sk-label:hover label.sk-toggleable__label {background-color: #d4ebff;}#sk-container-id-1 div.sk-serial::before {content: \"\";position: absolute;border-left: 1px solid gray;box-sizing: border-box;top: 0;bottom: 0;left: 50%;z-index: 0;}#sk-container-id-1 div.sk-serial {display: flex;flex-direction: column;align-items: center;background-color: white;padding-right: 0.2em;padding-left: 0.2em;position: relative;}#sk-container-id-1 div.sk-item {position: relative;z-index: 1;}#sk-container-id-1 div.sk-parallel {display: flex;align-items: stretch;justify-content: center;background-color: white;position: relative;}#sk-container-id-1 div.sk-item::before, #sk-container-id-1 div.sk-parallel-item::before {content: \"\";position: absolute;border-left: 1px solid gray;box-sizing: border-box;top: 0;bottom: 0;left: 50%;z-index: -1;}#sk-container-id-1 div.sk-parallel-item {display: flex;flex-direction: column;z-index: 1;position: relative;background-color: white;}#sk-container-id-1 div.sk-parallel-item:first-child::after {align-self: flex-end;width: 50%;}#sk-container-id-1 div.sk-parallel-item:last-child::after {align-self: flex-start;width: 50%;}#sk-container-id-1 div.sk-parallel-item:only-child::after {width: 0;}#sk-container-id-1 div.sk-dashed-wrapped {border: 1px dashed gray;margin: 0 0.4em 0.5em 0.4em;box-sizing: border-box;padding-bottom: 0.4em;background-color: white;}#sk-container-id-1 div.sk-label label {font-family: monospace;font-weight: bold;display: inline-block;line-height: 1.2em;}#sk-container-id-1 div.sk-label-container {text-align: center;}#sk-container-id-1 div.sk-container {/* jupyter's `normalize.less` sets `[hidden] { display: none; }` but bootstrap.min.css set `[hidden] { display: none !important; }` so we also need the `!important` here to be able to override the default hidden behavior on the sphinx rendered scikit-learn.org. See: https://github.com/scikit-learn/scikit-learn/issues/21755 */display: inline-block !important;position: relative;}#sk-container-id-1 div.sk-text-repr-fallback {display: none;}</style><div id=\"sk-container-id-1\" class=\"sk-top-container\"><div class=\"sk-text-repr-fallback\"><pre>OneHotEncoder(drop=&#x27;if_binary&#x27;, handle_unknown=&#x27;ignore&#x27;)</pre><b>In a Jupyter environment, please rerun this cell to show the HTML representation or trust the notebook. <br />On GitHub, the HTML representation is unable to render, please try loading this page with nbviewer.org.</b></div><div class=\"sk-container\" hidden><div class=\"sk-item\"><div class=\"sk-estimator sk-toggleable\"><input class=\"sk-toggleable__control sk-hidden--visually\" id=\"sk-estimator-id-1\" type=\"checkbox\" checked><label for=\"sk-estimator-id-1\" class=\"sk-toggleable__label sk-toggleable__label-arrow\">OneHotEncoder</label><div class=\"sk-toggleable__content\"><pre>OneHotEncoder(drop=&#x27;if_binary&#x27;, handle_unknown=&#x27;ignore&#x27;)</pre></div></div></div></div></div>"
      ],
      "text/plain": [
       "OneHotEncoder(drop='if_binary', handle_unknown='ignore')"
      ]
     },
     "execution_count": 15,
     "metadata": {},
     "output_type": "execute_result"
    }
   ],
   "source": [
    "# Initialize the OneHotEncoder\n",
    "encoder = OneHotEncoder(drop='if_binary', handle_unknown='ignore')\n",
    "\n",
    "# Fit the encoder on the training data\n",
    "encoder.fit(X_train[category_col])"
   ]
  },
  {
   "cell_type": "code",
   "execution_count": 18,
   "id": "91b79250-eb26-487c-acda-fb8eb17ef34c",
   "metadata": {},
   "outputs": [
    {
     "ename": "MemoryError",
     "evalue": "Unable to allocate 50.3 GiB for an array with shape (120871, 55854) and data type float64",
     "output_type": "error",
     "traceback": [
      "\u001b[0;31m---------------------------------------------------------------------------\u001b[0m",
      "\u001b[0;31mMemoryError\u001b[0m                               Traceback (most recent call last)",
      "\u001b[1;32m/mnt/c/Users/nuobe/Desktop/MITclass_Edge/Project/DataProcessing.ipynb Cell 29\u001b[0m line \u001b[0;36m2\n\u001b[1;32m      <a href='vscode-notebook-cell://wsl%2Bubuntu/mnt/c/Users/nuobe/Desktop/MITclass_Edge/Project/DataProcessing.ipynb#X36sdnNjb2RlLXJlbW90ZQ%3D%3D?line=0'>1</a>\u001b[0m \u001b[39m# Transform the categorical columns in both training and testing data\u001b[39;00m\n\u001b[0;32m----> <a href='vscode-notebook-cell://wsl%2Bubuntu/mnt/c/Users/nuobe/Desktop/MITclass_Edge/Project/DataProcessing.ipynb#X36sdnNjb2RlLXJlbW90ZQ%3D%3D?line=1'>2</a>\u001b[0m X_train_encoded \u001b[39m=\u001b[39m pd\u001b[39m.\u001b[39mDataFrame(encoder\u001b[39m.\u001b[39;49mtransform(X_train[category_col])\u001b[39m.\u001b[39;49mtoarray())\n\u001b[1;32m      <a href='vscode-notebook-cell://wsl%2Bubuntu/mnt/c/Users/nuobe/Desktop/MITclass_Edge/Project/DataProcessing.ipynb#X36sdnNjb2RlLXJlbW90ZQ%3D%3D?line=2'>3</a>\u001b[0m X_valid_encoded \u001b[39m=\u001b[39m pd\u001b[39m.\u001b[39mDataFrame(encoder\u001b[39m.\u001b[39mtransform(X_valid[category_col])\u001b[39m.\u001b[39mtoarray())\n",
      "File \u001b[0;32m~/.local/lib/python3.10/site-packages/scipy/sparse/_compressed.py:1051\u001b[0m, in \u001b[0;36m_cs_matrix.toarray\u001b[0;34m(self, order, out)\u001b[0m\n\u001b[1;32m   1049\u001b[0m \u001b[39mif\u001b[39;00m out \u001b[39mis\u001b[39;00m \u001b[39mNone\u001b[39;00m \u001b[39mand\u001b[39;00m order \u001b[39mis\u001b[39;00m \u001b[39mNone\u001b[39;00m:\n\u001b[1;32m   1050\u001b[0m     order \u001b[39m=\u001b[39m \u001b[39mself\u001b[39m\u001b[39m.\u001b[39m_swap(\u001b[39m'\u001b[39m\u001b[39mcf\u001b[39m\u001b[39m'\u001b[39m)[\u001b[39m0\u001b[39m]\n\u001b[0;32m-> 1051\u001b[0m out \u001b[39m=\u001b[39m \u001b[39mself\u001b[39;49m\u001b[39m.\u001b[39;49m_process_toarray_args(order, out)\n\u001b[1;32m   1052\u001b[0m \u001b[39mif\u001b[39;00m \u001b[39mnot\u001b[39;00m (out\u001b[39m.\u001b[39mflags\u001b[39m.\u001b[39mc_contiguous \u001b[39mor\u001b[39;00m out\u001b[39m.\u001b[39mflags\u001b[39m.\u001b[39mf_contiguous):\n\u001b[1;32m   1053\u001b[0m     \u001b[39mraise\u001b[39;00m \u001b[39mValueError\u001b[39;00m(\u001b[39m'\u001b[39m\u001b[39mOutput array must be C or F contiguous\u001b[39m\u001b[39m'\u001b[39m)\n",
      "File \u001b[0;32m~/.local/lib/python3.10/site-packages/scipy/sparse/_base.py:1298\u001b[0m, in \u001b[0;36mspmatrix._process_toarray_args\u001b[0;34m(self, order, out)\u001b[0m\n\u001b[1;32m   1296\u001b[0m     \u001b[39mreturn\u001b[39;00m out\n\u001b[1;32m   1297\u001b[0m \u001b[39melse\u001b[39;00m:\n\u001b[0;32m-> 1298\u001b[0m     \u001b[39mreturn\u001b[39;00m np\u001b[39m.\u001b[39;49mzeros(\u001b[39mself\u001b[39;49m\u001b[39m.\u001b[39;49mshape, dtype\u001b[39m=\u001b[39;49m\u001b[39mself\u001b[39;49m\u001b[39m.\u001b[39;49mdtype, order\u001b[39m=\u001b[39;49morder)\n",
      "\u001b[0;31mMemoryError\u001b[0m: Unable to allocate 50.3 GiB for an array with shape (120871, 55854) and data type float64"
     ]
    }
   ],
   "source": [
    "# Transform the categorical columns in both training and testing data\n",
    "X_train_encoded = pd.DataFrame(encoder.transform(X_train[category_col]).toarray())\n",
    "X_valid_encoded = pd.DataFrame(encoder.transform(X_valid[category_col]).toarray())"
   ]
  },
  {
   "cell_type": "code",
   "execution_count": 50,
   "id": "85990849-1160-4032-94da-172ce4789d40",
   "metadata": {},
   "outputs": [
    {
     "data": {
      "text/plain": [
       "217297"
      ]
     },
     "execution_count": 50,
     "metadata": {},
     "output_type": "execute_result"
    }
   ],
   "source": [
    "len(X_train_encoded)"
   ]
  },
  {
   "cell_type": "code",
   "execution_count": 17,
   "id": "c5e8ca67-e885-4d95-bc4b-92cf417b0f64",
   "metadata": {},
   "outputs": [
    {
     "ename": "NameError",
     "evalue": "name 'X_train_encoded' is not defined",
     "output_type": "error",
     "traceback": [
      "\u001b[0;31m---------------------------------------------------------------------------\u001b[0m",
      "\u001b[0;31mNameError\u001b[0m                                 Traceback (most recent call last)",
      "\u001b[1;32m/mnt/c/Users/nuobe/Desktop/MITclass_Edge/Project/DataProcessing.ipynb Cell 31\u001b[0m line \u001b[0;36m3\n\u001b[1;32m      <a href='vscode-notebook-cell://wsl%2Bubuntu/mnt/c/Users/nuobe/Desktop/MITclass_Edge/Project/DataProcessing.ipynb#X41sdnNjb2RlLXJlbW90ZQ%3D%3D?line=0'>1</a>\u001b[0m \u001b[39m# model = DecisionTreeClassifier()\u001b[39;00m\n\u001b[1;32m      <a href='vscode-notebook-cell://wsl%2Bubuntu/mnt/c/Users/nuobe/Desktop/MITclass_Edge/Project/DataProcessing.ipynb#X41sdnNjb2RlLXJlbW90ZQ%3D%3D?line=1'>2</a>\u001b[0m model \u001b[39m=\u001b[39m LogisticRegression(penalty\u001b[39m=\u001b[39m\u001b[39m'\u001b[39m\u001b[39ml1\u001b[39m\u001b[39m'\u001b[39m, solver\u001b[39m=\u001b[39m\u001b[39m'\u001b[39m\u001b[39mliblinear\u001b[39m\u001b[39m'\u001b[39m)\n\u001b[0;32m----> <a href='vscode-notebook-cell://wsl%2Bubuntu/mnt/c/Users/nuobe/Desktop/MITclass_Edge/Project/DataProcessing.ipynb#X41sdnNjb2RlLXJlbW90ZQ%3D%3D?line=2'>3</a>\u001b[0m model\u001b[39m.\u001b[39mfit(X_train_encoded, y_train)\n",
      "\u001b[0;31mNameError\u001b[0m: name 'X_train_encoded' is not defined"
     ]
    }
   ],
   "source": [
    "# model = DecisionTreeClassifier()\n",
    "model = LogisticRegression(penalty='l1', solver='liblinear')\n",
    "model.fit(X_train_encoded, y_train)"
   ]
  },
  {
   "cell_type": "code",
   "execution_count": 12,
   "id": "56d7ca69-1c49-4b12-b055-bfdba9f2876f",
   "metadata": {},
   "outputs": [
    {
     "data": {
      "text/plain": [
       "0.6322049342150677"
      ]
     },
     "execution_count": 12,
     "metadata": {},
     "output_type": "execute_result"
    }
   ],
   "source": [
    "y_pred = model.predict(X_valid_encoded)\n",
    "accuracy = accuracy_score(y_valid, y_pred)\n",
    "accuracy"
   ]
  },
  {
   "cell_type": "code",
   "execution_count": 16,
   "id": "0dec3c0f-0da5-4231-bf41-ebc6391d00e3",
   "metadata": {},
   "outputs": [
    {
     "name": "stdout",
     "output_type": "stream",
     "text": [
      "AUC-ROC Score: 0.6299826283390034\n"
     ]
    }
   ],
   "source": [
    "auc = roc_auc_score(y_valid, y_pred)\n",
    "print(\"AUC-ROC Score:\", auc)"
   ]
  }
 ],
 "metadata": {
  "environment": {
   "kernel": "conda-root-py",
   "name": "workbench-notebooks.m111",
   "type": "gcloud",
   "uri": "gcr.io/deeplearning-platform-release/workbench-notebooks:m111"
  },
  "kernelspec": {
   "display_name": "Python 3",
   "language": "python",
   "name": "python3"
  },
  "language_info": {
   "codemirror_mode": {
    "name": "ipython",
    "version": 3
   },
   "file_extension": ".py",
   "mimetype": "text/x-python",
   "name": "python",
   "nbconvert_exporter": "python",
   "pygments_lexer": "ipython3",
   "version": "3.10.6"
  }
 },
 "nbformat": 4,
 "nbformat_minor": 5
}
